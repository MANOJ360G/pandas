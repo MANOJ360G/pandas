{
 "cells": [
  {
   "cell_type": "code",
   "execution_count": 6,
   "id": "04969bdd-7378-45c7-b89f-8b364dfe18d7",
   "metadata": {},
   "outputs": [],
   "source": [
    "import numpy as np\n",
    "import numpy\n",
    "import pandas as pd\n",
    "import pandas"
   ]
  },
  {
   "cell_type": "markdown",
   "id": "44380e73-1abd-413a-99f7-5e1fcdab243d",
   "metadata": {},
   "source": []
  },
  {
   "cell_type": "code",
   "execution_count": 3,
   "id": "c96273f6-ece5-4084-bbeb-a84ca00ae58d",
   "metadata": {},
   "outputs": [
    {
     "name": "stdout",
     "output_type": "stream",
     "text": [
      "Task 1:\n",
      "1.5.2\n"
     ]
    }
   ],
   "source": [
    "print('Task 1:')  \n",
    "print(pd.__version__)"
   ]
  },
  {
   "cell_type": "code",
   "execution_count": 10,
   "id": "0df6ed8b-c843-4cfe-9ad3-a29188b6253d",
   "metadata": {},
   "outputs": [
    {
     "name": "stdout",
     "output_type": "stream",
     "text": [
      "Task 2:\n",
      "[(0, 0., 0.) (0, 0., 0.) (0, 0., 0.) (0, 0., 0.) (0, 0., 0.) (0, 0., 0.)\n",
      " (0, 0., 0.) (0, 0., 0.) (0, 0., 0.) (0, 0., 0.) (0, 0., 0.) (0, 0., 0.)\n",
      " (0, 0., 0.) (0, 0., 0.) (0, 0., 0.) (0, 0., 0.) (0, 0., 0.) (0, 0., 0.)\n",
      " (0, 0., 0.) (0, 0., 0.)]\n",
      "['Row_1', 'Row_2', 'Row_3', 'Row_4', 'Row_5', 'Row_6', 'Row_7', 'Row_8', 'Row_9', 'Row_10', 'Row_11', 'Row_12', 'Row_13', 'Row_14', 'Row_15', 'Row_16', 'Row_17', 'Row_18', 'Row_19', 'Row_20']\n",
      "        col1  col2  col3\n",
      "Row_1      0   0.0   0.0\n",
      "Row_2      0   0.0   0.0\n",
      "Row_3      0   0.0   0.0\n",
      "Row_4      0   0.0   0.0\n",
      "Row_5      0   0.0   0.0\n",
      "Row_6      0   0.0   0.0\n",
      "Row_7      0   0.0   0.0\n",
      "Row_8      0   0.0   0.0\n",
      "Row_9      0   0.0   0.0\n",
      "Row_10     0   0.0   0.0\n",
      "Row_11     0   0.0   0.0\n",
      "Row_12     0   0.0   0.0\n",
      "Row_13     0   0.0   0.0\n",
      "Row_14     0   0.0   0.0\n",
      "Row_15     0   0.0   0.0\n",
      "Row_16     0   0.0   0.0\n",
      "Row_17     0   0.0   0.0\n",
      "Row_18     0   0.0   0.0\n",
      "Row_19     0   0.0   0.0\n",
      "Row_20     0   0.0   0.0\n",
      "    col1  col2  col3\n",
      "0      0   0.0   0.0\n",
      "1      0   0.0   0.0\n",
      "2      0   0.0   0.0\n",
      "3      0   0.0   0.0\n",
      "4      0   0.0   0.0\n",
      "5      0   0.0   0.0\n",
      "6      0   0.0   0.0\n",
      "7      0   0.0   0.0\n",
      "8      0   0.0   0.0\n",
      "9      0   0.0   0.0\n",
      "10     0   0.0   0.0\n",
      "11     0   0.0   0.0\n",
      "12     0   0.0   0.0\n",
      "13     0   0.0   0.0\n",
      "14     0   0.0   0.0\n",
      "15     0   0.0   0.0\n",
      "16     0   0.0   0.0\n",
      "17     0   0.0   0.0\n",
      "18     0   0.0   0.0\n",
      "19     0   0.0   0.0\n"
     ]
    }
   ],
   "source": [
    "print('Task 2:')\n",
    "dtype = [('col1','int32'), ('col2','float32'), ('col3','float32')]\n",
    "#dtype shows the desired array type\n",
    "values = numpy.zeros(20, dtype=dtype)\n",
    "print(values)\n",
    "index = ['Row_'+str(i) for i in range(1, len(values)+1)]\n",
    "print(index)\n",
    "\n",
    "df = pandas.DataFrame(values, index=index)\n",
    "print(df)\n",
    "\n",
    "df = pandas.DataFrame(values)\n",
    "print(df)"
   ]
  },
  {
   "cell_type": "code",
   "execution_count": 12,
   "id": "a8eb2936-1ac8-4075-865d-a5c989ea1ce8",
   "metadata": {},
   "outputs": [
    {
     "name": "stdout",
     "output_type": "stream",
     "text": [
      "Task 3:\n",
      "  0  1      2    3     4     5      6    7     8   9     10    11    12\n",
      "0  X  Y  month  day  FFMC   DMC     DC  ISI  temp  RH  wind  rain  area\n",
      "1  7  5    mar  fri  86.2  26.2   94.3  5.1   8.2  51   6.7     0     0\n",
      "2  7  4    oct  tue  90.6  35.4  669.1  6.7    18  33   0.9     0     0\n",
      "3  7  4    oct  sat  90.6  43.7  686.9  6.7  14.6  33   1.3     0     0\n"
     ]
    }
   ],
   "source": [
    "print('Task 3:')\n",
    "df = pandas.read_csv('forestfires.csv', sep=',', header=None)\n",
    "print(df.iloc[:4]) "
   ]
  },
  {
   "cell_type": "code",
   "execution_count": 21,
   "id": "32519ddd-7cd6-4dde-90b6-72995999f6f3",
   "metadata": {},
   "outputs": [
    {
     "name": "stdout",
     "output_type": "stream",
     "text": [
      "Task 4:\n",
      "[186 208 168 152 157 185]\n"
     ]
    }
   ],
   "source": [
    "print('Task 4:')\n",
    "values = np.random.randint(150, 210, size=6)\n",
    "print(values)"
   ]
  },
  {
   "cell_type": "code",
   "execution_count": 27,
   "id": "28848610-5d19-4783-92b5-de8082c86f57",
   "metadata": {},
   "outputs": [
    {
     "name": "stdout",
     "output_type": "stream",
     "text": [
      "task 5:\n",
      "    A   B\n",
      "0  16  19\n",
      "1  10  26\n",
      "2  14  21\n",
      "3  14  27\n"
     ]
    }
   ],
   "source": [
    "print('task 5:')\n",
    "values = np.random.randint(10, 30,size = (4,2))\n",
    "dataframe = pd.DataFrame(values,columns=list('AB'))\n",
    "print(dataframe)"
   ]
  },
  {
   "cell_type": "code",
   "execution_count": 32,
   "id": "4569836e-560e-4a64-bcb6-76e315d929ea",
   "metadata": {},
   "outputs": [
    {
     "name": "stdout",
     "output_type": "stream",
     "text": [
      "Task 6:\n",
      "     A    B    C    D\n",
      "0  120  329  315  142\n",
      "1  121  329  212  183\n",
      "2  186  248  283  339\n",
      "3  191  309  122  324\n",
      "4  168  206  338  265\n"
     ]
    }
   ],
   "source": [
    "print('Task 6:')\n",
    "values =np.random.randint(120, 340, size=(5, 4))\n",
    "dataframe = pd.DataFrame(values, columns=['A', 'B', 'C', 'D'])\n",
    "print(dataframe)"
   ]
  },
  {
   "cell_type": "code",
   "execution_count": 34,
   "id": "01dda5c2-1dd8-4517-9e6a-6d229ee0709e",
   "metadata": {},
   "outputs": [
    {
     "name": "stdout",
     "output_type": "stream",
     "text": [
      "task 7\n",
      "[[ 5 78 20 99 22]\n",
      " [38 53 77 87 56]\n",
      " [11 90 23 17 87]\n",
      " [25 64 16 87 57]]\n"
     ]
    }
   ],
   "source": [
    "print(\"task 7\")\n",
    "values = np.random.randint(1,100,size =(4,5))\n",
    "print(values)"
   ]
  },
  {
   "cell_type": "code",
   "execution_count": 38,
   "id": "5d70e73c-4a11-4e3d-9cbe-b0b95aa7e6cb",
   "metadata": {},
   "outputs": [
    {
     "name": "stdout",
     "output_type": "stream",
     "text": [
      "task 8\n",
      "    A   B   C   D   E\n",
      "0  58  55  86  76  80\n",
      "1  95  55  34  52  19\n"
     ]
    }
   ],
   "source": [
    "print (\"task 8\")\n",
    "values = np.random.randint(100,size = (2,5))\n",
    "df = pd.DataFrame(values ,columns =list('ABCDE'))\n",
    "print(df)"
   ]
  },
  {
   "cell_type": "code",
   "execution_count": 43,
   "id": "db81a59a-a9a8-41e0-afa6-4539edbff45e",
   "metadata": {},
   "outputs": [
    {
     "name": "stdout",
     "output_type": "stream",
     "text": [
      "task 9\n",
      "     x    y\n",
      "0  0.0  0.0\n",
      "1  0.0  0.0\n",
      "2  0.0  0.0\n"
     ]
    }
   ],
   "source": [
    "print(\"task 9\"),\n",
    "values = np.zeros((3,2))\n",
    "df = pd.DataFrame(values ,columns = list('xy'))\n",
    "print(df)"
   ]
  },
  {
   "cell_type": "code",
   "execution_count": 53,
   "id": "93eefc1a-fd30-4a6e-83b6-9a558ca0f3d6",
   "metadata": {},
   "outputs": [
    {
     "name": "stdout",
     "output_type": "stream",
     "text": [
      "task 10\n",
      "['math', 'science']\n",
      "   math  science\n",
      "0    99       54\n",
      "1    94       57\n",
      "2    69       55\n",
      "3    87       76\n",
      "4    96       88\n",
      "5    55       50\n",
      "6    88       67\n",
      "7    79       84\n",
      "8    93       74\n",
      "9    50       92\n"
     ]
    }
   ],
   "source": [
    "print(\"task 10\")\n",
    "dtype = [('math','int32'),('science','int32')]\n",
    "values = np.random.randint(50,100,size =(10,2))\n",
    "index = [dtype[i][0] for i  in range(len(dtype))]\n",
    "print(index)\n",
    "df =pd.DataFrame(values,columns = index)\n",
    "print(df)"
   ]
  },
  {
   "cell_type": "code",
   "execution_count": 54,
   "id": "c3d242d6-b4f9-4db2-8d3b-0b4f93a3c344",
   "metadata": {},
   "outputs": [
    {
     "name": "stdout",
     "output_type": "stream",
     "text": [
      "Task 11:\n",
      "  0  1      2    3     4     5      6    7     8   9     10    11    12\n",
      "0  X  Y  month  day  FFMC   DMC     DC  ISI  temp  RH  wind  rain  area\n",
      "1  7  5    mar  fri  86.2  26.2   94.3  5.1   8.2  51   6.7     0     0\n",
      "2  7  4    oct  tue  90.6  35.4  669.1  6.7    18  33   0.9     0     0\n",
      "3  7  4    oct  sat  90.6  43.7  686.9  6.7  14.6  33   1.3     0     0\n",
      "4  8  6    mar  fri  91.7  33.3   77.5    9   8.3  97     4   0.2     0\n"
     ]
    }
   ],
   "source": [
    "print('Task 11:')\n",
    "df = pandas.read_csv('forestfires.csv', sep=',', header=None)\n",
    "print(df.head())"
   ]
  },
  {
   "cell_type": "code",
   "execution_count": 57,
   "id": "c12c142f-0c6a-415b-aaa5-71047a1b4110",
   "metadata": {},
   "outputs": [
    {
     "name": "stdout",
     "output_type": "stream",
     "text": [
      "Task 13:\n",
      "   0  1      2    3     4\n",
      "0  X  Y  month  day  FFMC\n",
      "1  7  5    mar  fri  86.2\n",
      "2  7  4    oct  tue  90.6\n",
      "3  7  4    oct  sat  90.6\n"
     ]
    }
   ],
   "source": [
    "print('Task 13:') \n",
    "df = pandas.read_csv('forestfires.csv', sep=',', header=None)\n",
    "\n",
    "print(df.iloc[0:4,0:5])\n"
   ]
  },
  {
   "cell_type": "code",
   "execution_count": 60,
   "id": "383573fe-1381-4807-8fb5-76f9bf61d3b9",
   "metadata": {},
   "outputs": [
    {
     "name": "stdout",
     "output_type": "stream",
     "text": [
      "Task 14:\n",
      "     0  1      2    3     4\n",
      "0    X  Y  month  day  FFMC\n",
      "2    7  4    oct  tue  90.6\n",
      "4    8  6    mar  fri  91.7\n",
      "6    8  6    aug  sun  92.3\n",
      "8    8  6    aug  mon  91.5\n",
      "..  .. ..    ...  ...   ...\n",
      "508  2  4    aug  fri    91\n",
      "510  5  4    aug  fri    91\n",
      "512  8  6    aug  sun  81.6\n",
      "514  2  4    aug  sun  81.6\n",
      "516  1  4    aug  sat  94.4\n",
      "\n",
      "[259 rows x 5 columns]\n"
     ]
    }
   ],
   "source": [
    "print('Task 14:') \n",
    "df = pandas.read_csv('forestfires.csv', sep=',', header=None)\n",
    "\n",
    "print(df.iloc[0::2,0:5])"
   ]
  },
  {
   "cell_type": "code",
   "execution_count": 74,
   "id": "2a2027dc-21fe-4816-854e-a1a267826085",
   "metadata": {},
   "outputs": [
    {
     "name": "stdout",
     "output_type": "stream",
     "text": [
      "Task 14:\n",
      "  student  language  science  maths  history\n",
      "0   kumar        90       56     34       34\n",
      "1   kevin        10       34     32       67\n",
      "2   sammy        90       23     12       32\n",
      "3  janice        20       67     90       45\n",
      "4   peter        30       56     45       65\n",
      "5    prem        90       45     45       34\n",
      "6  carrol        50       90     45       23\n",
      "   language  science  maths  history\n",
      "0        90       56     34       34\n",
      "1        10       34     32       67\n",
      "2        90       23     12       32\n",
      "3        20       67     90       45\n",
      "4        30       56     45       65\n",
      "5        90       45     45       34\n",
      "6        50       90     45       23\n",
      "  student  language  science  maths  history  total\n",
      "0   kumar        90       56     34       34    214\n",
      "1   kevin        10       34     32       67    143\n",
      "2   sammy        90       23     12       32    157\n",
      "3  janice        20       67     90       45    222\n",
      "4   peter        30       56     45       65    196\n",
      "5    prem        90       45     45       34    214\n",
      "6  carrol        50       90     45       23    208\n"
     ]
    }
   ],
   "source": [
    "print('Task 15:') \n",
    "df = pandas.read_csv('abc.csv', sep=',')\n",
    "print(df)\n",
    "df1 = df.drop(['student'],axis=1)\n",
    "print(df1)\n",
    "df['total'] = df1.sum(axis=1)\n",
    "print(df)"
   ]
  },
  {
   "cell_type": "code",
   "execution_count": 76,
   "id": "c1b8cb17-f8c1-4f50-b984-8e6e68325f80",
   "metadata": {},
   "outputs": [
    {
     "name": "stdout",
     "output_type": "stream",
     "text": [
      "Task 14:\n",
      "  student  language  science  maths  history\n",
      "0   kumar        90       56     34       34\n",
      "1   kevin        10       34     32       67\n",
      "2   sammy        90       23     12       32\n",
      "3  janice        20       67     90       45\n",
      "4   peter        30       56     45       65\n",
      "5    prem        90       45     45       34\n",
      "6  carrol        50       90     45       23\n",
      "  student  language  science  maths  history\n",
      "3  janice        20       67     90       45\n",
      "4   peter        30       56     45       65\n",
      "5    prem        90       45     45       34\n",
      "6  carrol        50       90     45       23\n"
     ]
    }
   ],
   "source": [
    "print('Task 16:') \n",
    "df = pandas.read_csv('abc.csv', sep=',')\n",
    "print(df)\n",
    "df1 = df[df.maths>40]\n",
    "print(df1)"
   ]
  },
  {
   "cell_type": "code",
   "execution_count": 80,
   "id": "8f393a1e-154e-44e1-b6ce-5226cb4a62a6",
   "metadata": {},
   "outputs": [
    {
     "name": "stdout",
     "output_type": "stream",
     "text": [
      "Task 17:\n",
      "  student  language  science  maths  history\n",
      "0   kumar        90       56     34       34\n",
      "1   kevin        10       34     32       67\n",
      "2   sammy        90       23     12       32\n",
      "3  janice        20       67     90       45\n",
      "4   peter        30       56     45       65\n",
      "5    prem        90       45     45       34\n",
      "6  carrol        50       90     45       23\n",
      "  student  language  science  maths  history\n",
      "0   kumar        90       56     34       34\n",
      "2   sammy        90       23     12       32\n",
      "5    prem        90       45     45       34\n",
      "6  carrol        50       90     45       23\n"
     ]
    }
   ],
   "source": [
    "print('Task 17:') \n",
    "df = pandas.read_csv('abc.csv', sep=',')\n",
    "print(df)\n",
    "df1 = df.query('language>=50')\n",
    "print(df1)"
   ]
  },
  {
   "cell_type": "code",
   "execution_count": 81,
   "id": "9e662460-44bc-4ea1-a38b-ef70019a99a0",
   "metadata": {},
   "outputs": [
    {
     "name": "stdout",
     "output_type": "stream",
     "text": [
      "Task 17:\n",
      "  student  language  science  maths  history\n",
      "0   kumar        90       56     34       34\n",
      "1   kevin        10       34     32       67\n",
      "2   sammy        90       23     12       32\n",
      "3  janice        20       67     90       45\n",
      "4    prem        90       45     45       34\n",
      "5  carrol        50       90     45       23\n"
     ]
    }
   ],
   "source": [
    "print('Task 18:') \n",
    "df = pandas.read_csv('abc.csv', sep=',',skiprows = [5])\n",
    "print(df)\n"
   ]
  },
  {
   "cell_type": "code",
   "execution_count": 82,
   "id": "a923883b-22c5-4747-9bd4-1ce1a94edb1b",
   "metadata": {},
   "outputs": [
    {
     "name": "stdout",
     "output_type": "stream",
     "text": [
      "Task 17:\n",
      "  student  language  science  maths  history\n",
      "0   sammy        90       23     12       32\n",
      "1  janice        20       67     90       45\n",
      "2    prem        90       45     45       34\n",
      "3  carrol        50       90     45       23\n"
     ]
    }
   ],
   "source": [
    "print('Task 19:') \n",
    "df = pandas.read_csv('abc.csv', sep=',',skiprows = [1,2,5])\n",
    "print(df)\n"
   ]
  },
  {
   "cell_type": "code",
   "execution_count": 83,
   "id": "9e339360-e6ae-47be-b081-c7e1ae80587d",
   "metadata": {},
   "outputs": [
    {
     "name": "stdout",
     "output_type": "stream",
     "text": [
      "Task 17:\n",
      "maths\n"
     ]
    }
   ],
   "source": [
    "print('Task 20:') \n",
    "df = pandas.read_csv('abc.csv', sep=',',skiprows = [5])\n",
    "print(df.columns[3])\n"
   ]
  },
  {
   "cell_type": "code",
   "execution_count": 84,
   "id": "c33d5698-6774-42ec-8190-8d8281dd097f",
   "metadata": {},
   "outputs": [
    {
     "name": "stdout",
     "output_type": "stream",
     "text": [
      "Task 18:\n",
      "    kumar  90  56  34  34.1\n",
      "0   kevin  10  34  32    67\n",
      "1   sammy  90  23  12    32\n",
      "2  janice  20  67  90    45\n",
      "3   peter  30  56  45    65\n",
      "4    prem  90  45  45    34\n",
      "5  carrol  50  90  45    23\n"
     ]
    }
   ],
   "source": [
    "print('Task 21:') \n",
    "df = pandas.read_csv('abc.csv', sep=',',skiprows = [0])\n",
    "print(df)"
   ]
  },
  {
   "cell_type": "code",
   "execution_count": 90,
   "id": "d0494751-b77e-4350-bc22-c52d0e7a0143",
   "metadata": {},
   "outputs": [
    {
     "name": "stdout",
     "output_type": "stream",
     "text": [
      "Task 22:\n",
      "(3, 2)\n",
      "           X   Y\n",
      "0         10  21\n",
      "1         32  44\n",
      "2         52  63\n"
     ]
    }
   ],
   "source": [
    "print('Task 22:')\n",
    "from io import StringIO\n",
    "\n",
    "s = \"\"\"\n",
    "        X,Y\n",
    "        10, 21\n",
    "        32, 44\n",
    "        52, 63\n",
    "    \"\"\"\n",
    "\n",
    "df = pd.read_csv(StringIO(s))\n",
    "\n",
    "print(df.shape)\n",
    "print(df)"
   ]
  }
 ],
 "metadata": {
  "kernelspec": {
   "display_name": "Python 3 (ipykernel)",
   "language": "python",
   "name": "python3"
  },
  "language_info": {
   "codemirror_mode": {
    "name": "ipython",
    "version": 3
   },
   "file_extension": ".py",
   "mimetype": "text/x-python",
   "name": "python",
   "nbconvert_exporter": "python",
   "pygments_lexer": "ipython3",
   "version": "3.8.15"
  }
 },
 "nbformat": 4,
 "nbformat_minor": 5
}
