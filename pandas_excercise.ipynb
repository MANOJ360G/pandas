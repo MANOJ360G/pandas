{
 "cells": [
  {
   "cell_type": "code",
   "execution_count": 6,
   "id": "04969bdd-7378-45c7-b89f-8b364dfe18d7",
   "metadata": {},
   "outputs": [],
   "source": [
    "import numpy as np\n",
    "import numpy\n",
    "import pandas as pd\n",
    "import pandas"
   ]
  },
  {
   "cell_type": "markdown",
   "id": "44380e73-1abd-413a-99f7-5e1fcdab243d",
   "metadata": {},
   "source": []
  },
  {
   "cell_type": "code",
   "execution_count": 3,
   "id": "c96273f6-ece5-4084-bbeb-a84ca00ae58d",
   "metadata": {},
   "outputs": [
    {
     "name": "stdout",
     "output_type": "stream",
     "text": [
      "Task 1:\n",
      "1.5.2\n"
     ]
    }
   ],
   "source": [
    "print('Task 1:')  \n",
    "print(pd.__version__)"
   ]
  },
  {
   "cell_type": "code",
   "execution_count": 10,
   "id": "0df6ed8b-c843-4cfe-9ad3-a29188b6253d",
   "metadata": {},
   "outputs": [
    {
     "name": "stdout",
     "output_type": "stream",
     "text": [
      "Task 2:\n",
      "[(0, 0., 0.) (0, 0., 0.) (0, 0., 0.) (0, 0., 0.) (0, 0., 0.) (0, 0., 0.)\n",
      " (0, 0., 0.) (0, 0., 0.) (0, 0., 0.) (0, 0., 0.) (0, 0., 0.) (0, 0., 0.)\n",
      " (0, 0., 0.) (0, 0., 0.) (0, 0., 0.) (0, 0., 0.) (0, 0., 0.) (0, 0., 0.)\n",
      " (0, 0., 0.) (0, 0., 0.)]\n",
      "['Row_1', 'Row_2', 'Row_3', 'Row_4', 'Row_5', 'Row_6', 'Row_7', 'Row_8', 'Row_9', 'Row_10', 'Row_11', 'Row_12', 'Row_13', 'Row_14', 'Row_15', 'Row_16', 'Row_17', 'Row_18', 'Row_19', 'Row_20']\n",
      "        col1  col2  col3\n",
      "Row_1      0   0.0   0.0\n",
      "Row_2      0   0.0   0.0\n",
      "Row_3      0   0.0   0.0\n",
      "Row_4      0   0.0   0.0\n",
      "Row_5      0   0.0   0.0\n",
      "Row_6      0   0.0   0.0\n",
      "Row_7      0   0.0   0.0\n",
      "Row_8      0   0.0   0.0\n",
      "Row_9      0   0.0   0.0\n",
      "Row_10     0   0.0   0.0\n",
      "Row_11     0   0.0   0.0\n",
      "Row_12     0   0.0   0.0\n",
      "Row_13     0   0.0   0.0\n",
      "Row_14     0   0.0   0.0\n",
      "Row_15     0   0.0   0.0\n",
      "Row_16     0   0.0   0.0\n",
      "Row_17     0   0.0   0.0\n",
      "Row_18     0   0.0   0.0\n",
      "Row_19     0   0.0   0.0\n",
      "Row_20     0   0.0   0.0\n",
      "    col1  col2  col3\n",
      "0      0   0.0   0.0\n",
      "1      0   0.0   0.0\n",
      "2      0   0.0   0.0\n",
      "3      0   0.0   0.0\n",
      "4      0   0.0   0.0\n",
      "5      0   0.0   0.0\n",
      "6      0   0.0   0.0\n",
      "7      0   0.0   0.0\n",
      "8      0   0.0   0.0\n",
      "9      0   0.0   0.0\n",
      "10     0   0.0   0.0\n",
      "11     0   0.0   0.0\n",
      "12     0   0.0   0.0\n",
      "13     0   0.0   0.0\n",
      "14     0   0.0   0.0\n",
      "15     0   0.0   0.0\n",
      "16     0   0.0   0.0\n",
      "17     0   0.0   0.0\n",
      "18     0   0.0   0.0\n",
      "19     0   0.0   0.0\n"
     ]
    }
   ],
   "source": [
    "print('Task 2:')\n",
    "dtype = [('col1','int32'), ('col2','float32'), ('col3','float32')]\n",
    "#dtype shows the desired array type\n",
    "values = numpy.zeros(20, dtype=dtype)\n",
    "print(values)\n",
    "index = ['Row_'+str(i) for i in range(1, len(values)+1)]\n",
    "print(index)\n",
    "\n",
    "df = pandas.DataFrame(values, index=index)\n",
    "print(df)\n",
    "\n",
    "df = pandas.DataFrame(values)\n",
    "print(df)"
   ]
  },
  {
   "cell_type": "code",
   "execution_count": 12,
   "id": "a8eb2936-1ac8-4075-865d-a5c989ea1ce8",
   "metadata": {},
   "outputs": [
    {
     "name": "stdout",
     "output_type": "stream",
     "text": [
      "Task 3:\n",
      "  0  1      2    3     4     5      6    7     8   9     10    11    12\n",
      "0  X  Y  month  day  FFMC   DMC     DC  ISI  temp  RH  wind  rain  area\n",
      "1  7  5    mar  fri  86.2  26.2   94.3  5.1   8.2  51   6.7     0     0\n",
      "2  7  4    oct  tue  90.6  35.4  669.1  6.7    18  33   0.9     0     0\n",
      "3  7  4    oct  sat  90.6  43.7  686.9  6.7  14.6  33   1.3     0     0\n"
     ]
    }
   ],
   "source": [
    "print('Task 3:')\n",
    "df = pandas.read_csv('forestfires.csv', sep=',', header=None)\n",
    "print(df.iloc[:4]) "
   ]
  },
  {
   "cell_type": "code",
   "execution_count": null,
   "id": "b9d04a13-46ed-4eec-912e-107afc0d45bf",
   "metadata": {},
   "outputs": [],
   "source": []
  },
  {
   "cell_type": "code",
   "execution_count": null,
   "id": "754b2812-121c-4b7d-8d59-18f18fb32303",
   "metadata": {
    "tags": []
   },
   "outputs": [],
   "source": []
  },
  {
   "cell_type": "markdown",
   "id": "d71a9a6b-c071-4ca0-a4c6-52d514dcc78e",
   "metadata": {},
   "source": []
  },
  {
   "cell_type": "code",
   "execution_count": 21,
   "id": "32519ddd-7cd6-4dde-90b6-72995999f6f3",
   "metadata": {},
   "outputs": [
    {
     "name": "stdout",
     "output_type": "stream",
     "text": [
      "Task 4:\n",
      "[186 208 168 152 157 185]\n"
     ]
    }
   ],
   "source": [
    "print('Task 4:')\n",
    "values = np.random.randint(150, 210, size=6)\n",
    "print(values)"
   ]
  },
  {
   "cell_type": "code",
   "execution_count": 27,
   "id": "28848610-5d19-4783-92b5-de8082c86f57",
   "metadata": {},
   "outputs": [
    {
     "name": "stdout",
     "output_type": "stream",
     "text": [
      "task 5:\n",
      "    A   B\n",
      "0  16  19\n",
      "1  10  26\n",
      "2  14  21\n",
      "3  14  27\n"
     ]
    }
   ],
   "source": [
    "print('task 5:')\n",
    "values = np.random.randint(10, 30,size = (4,2))\n",
    "dataframe = pd.DataFrame(values,columns=list('AB'))\n",
    "print(dataframe)"
   ]
  }
 ],
 "metadata": {
  "kernelspec": {
   "display_name": "Python 3 (ipykernel)",
   "language": "python",
   "name": "python3"
  },
  "language_info": {
   "codemirror_mode": {
    "name": "ipython",
    "version": 3
   },
   "file_extension": ".py",
   "mimetype": "text/x-python",
   "name": "python",
   "nbconvert_exporter": "python",
   "pygments_lexer": "ipython3",
   "version": "3.8.15"
  }
 },
 "nbformat": 4,
 "nbformat_minor": 5
}
