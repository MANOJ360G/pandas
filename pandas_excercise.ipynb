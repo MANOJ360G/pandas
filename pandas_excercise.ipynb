{
 "cells": [
  {
   "cell_type": "code",
   "execution_count": 5,
   "id": "04969bdd-7378-45c7-b89f-8b364dfe18d7",
   "metadata": {},
   "outputs": [],
   "source": [
    "import numpy as np\n",
    "import numpy\n",
    "import pandas as pd\n",
    "import pandas"
   ]
  },
  {
   "cell_type": "markdown",
   "id": "44380e73-1abd-413a-99f7-5e1fcdab243d",
   "metadata": {},
   "source": []
  },
  {
   "cell_type": "code",
   "execution_count": 3,
   "id": "c96273f6-ece5-4084-bbeb-a84ca00ae58d",
   "metadata": {},
   "outputs": [
    {
     "name": "stdout",
     "output_type": "stream",
     "text": [
      "Task 1:\n",
      "1.5.2\n"
     ]
    }
   ],
   "source": [
    "print('Task 1:')  \n",
    "print(pd.__version__)"
   ]
  },
  {
   "cell_type": "code",
   "execution_count": 168,
   "id": "0df6ed8b-c843-4cfe-9ad3-a29188b6253d",
   "metadata": {},
   "outputs": [
    {
     "name": "stdout",
     "output_type": "stream",
     "text": [
      "Task 2:\n",
      "[(0, 0., 0.) (0, 0., 0.)]\n",
      "   col1  col2  col3\n",
      "0     0   0.0   0.0\n",
      "1     0   0.0   0.0\n"
     ]
    }
   ],
   "source": [
    "print('Task 2:')\n",
    "dtype = [('col1','int32'), ('col2','float32'), ('col3','float32')]\n",
    "#dtype shows the desired array type\n",
    "values = numpy.zeros(2, dtype=dtype)\n",
    "print(values)\n",
    "index = ['Row_'+str(i) for i in range(1, len(values)+1)]\n",
    "#print(index)\n",
    "\n",
    "df = pandas.DataFrame(values)\n",
    "print(df)\n",
    "\n",
    "df = pandas.DataFrame(values)\n",
    "#print(df)"
   ]
  },
  {
   "cell_type": "code",
   "execution_count": 12,
   "id": "a8eb2936-1ac8-4075-865d-a5c989ea1ce8",
   "metadata": {},
   "outputs": [
    {
     "name": "stdout",
     "output_type": "stream",
     "text": [
      "Task 3:\n",
      "  0  1      2    3     4     5      6    7     8   9     10    11    12\n",
      "0  X  Y  month  day  FFMC   DMC     DC  ISI  temp  RH  wind  rain  area\n",
      "1  7  5    mar  fri  86.2  26.2   94.3  5.1   8.2  51   6.7     0     0\n",
      "2  7  4    oct  tue  90.6  35.4  669.1  6.7    18  33   0.9     0     0\n",
      "3  7  4    oct  sat  90.6  43.7  686.9  6.7  14.6  33   1.3     0     0\n"
     ]
    }
   ],
   "source": [
    "print('Task 3:')\n",
    "df = pandas.read_csv('forestfires.csv', sep=',', header=None)\n",
    "print(df.iloc[:4]) "
   ]
  },
  {
   "cell_type": "code",
   "execution_count": 169,
   "id": "32519ddd-7cd6-4dde-90b6-72995999f6f3",
   "metadata": {},
   "outputs": [
    {
     "name": "stdout",
     "output_type": "stream",
     "text": [
      "Task 4:\n",
      "[198 208 156 164 196 190]\n"
     ]
    }
   ],
   "source": [
    "print('Task 4:')\n",
    "values = np.random.randint(150, 210, size=6)\n",
    "print(values)"
   ]
  },
  {
   "cell_type": "code",
   "execution_count": 27,
   "id": "28848610-5d19-4783-92b5-de8082c86f57",
   "metadata": {},
   "outputs": [
    {
     "name": "stdout",
     "output_type": "stream",
     "text": [
      "task 5:\n",
      "    A   B\n",
      "0  16  19\n",
      "1  10  26\n",
      "2  14  21\n",
      "3  14  27\n"
     ]
    }
   ],
   "source": [
    "print('task 5:')\n",
    "values = np.random.randint(10, 30,size = (4,2))\n",
    "dataframe = pd.DataFrame(values,columns=list('AB'))\n",
    "print(dataframe)"
   ]
  },
  {
   "cell_type": "code",
   "execution_count": 32,
   "id": "4569836e-560e-4a64-bcb6-76e315d929ea",
   "metadata": {},
   "outputs": [
    {
     "name": "stdout",
     "output_type": "stream",
     "text": [
      "Task 6:\n",
      "     A    B    C    D\n",
      "0  120  329  315  142\n",
      "1  121  329  212  183\n",
      "2  186  248  283  339\n",
      "3  191  309  122  324\n",
      "4  168  206  338  265\n"
     ]
    }
   ],
   "source": [
    "print('Task 6:')\n",
    "values =np.random.randint(120, 340, size=(5, 4))\n",
    "dataframe = pd.DataFrame(values, columns=['A', 'B', 'C', 'D'])\n",
    "print(dataframe)"
   ]
  },
  {
   "cell_type": "code",
   "execution_count": 34,
   "id": "01dda5c2-1dd8-4517-9e6a-6d229ee0709e",
   "metadata": {},
   "outputs": [
    {
     "name": "stdout",
     "output_type": "stream",
     "text": [
      "task 7\n",
      "[[ 5 78 20 99 22]\n",
      " [38 53 77 87 56]\n",
      " [11 90 23 17 87]\n",
      " [25 64 16 87 57]]\n"
     ]
    }
   ],
   "source": [
    "print(\"task 7\")\n",
    "values = np.random.randint(1,100,size =(4,5))\n",
    "print(values)"
   ]
  },
  {
   "cell_type": "code",
   "execution_count": 38,
   "id": "5d70e73c-4a11-4e3d-9cbe-b0b95aa7e6cb",
   "metadata": {},
   "outputs": [
    {
     "name": "stdout",
     "output_type": "stream",
     "text": [
      "task 8\n",
      "    A   B   C   D   E\n",
      "0  58  55  86  76  80\n",
      "1  95  55  34  52  19\n"
     ]
    }
   ],
   "source": [
    "print (\"task 8\")\n",
    "values = np.random.randint(100,size = (2,5))\n",
    "df = pd.DataFrame(values ,columns =list('ABCDE'))\n",
    "print(df)"
   ]
  },
  {
   "cell_type": "code",
   "execution_count": 43,
   "id": "db81a59a-a9a8-41e0-afa6-4539edbff45e",
   "metadata": {},
   "outputs": [
    {
     "name": "stdout",
     "output_type": "stream",
     "text": [
      "task 9\n",
      "     x    y\n",
      "0  0.0  0.0\n",
      "1  0.0  0.0\n",
      "2  0.0  0.0\n"
     ]
    }
   ],
   "source": [
    "print(\"task 9\"),\n",
    "values = np.zeros((3,2))\n",
    "df = pd.DataFrame(values ,columns = list('xy'))\n",
    "print(df)"
   ]
  },
  {
   "cell_type": "code",
   "execution_count": 53,
   "id": "93eefc1a-fd30-4a6e-83b6-9a558ca0f3d6",
   "metadata": {},
   "outputs": [
    {
     "name": "stdout",
     "output_type": "stream",
     "text": [
      "task 10\n",
      "['math', 'science']\n",
      "   math  science\n",
      "0    99       54\n",
      "1    94       57\n",
      "2    69       55\n",
      "3    87       76\n",
      "4    96       88\n",
      "5    55       50\n",
      "6    88       67\n",
      "7    79       84\n",
      "8    93       74\n",
      "9    50       92\n"
     ]
    }
   ],
   "source": [
    "print(\"task 10\")\n",
    "dtype = [('math','int32'),('science','int32')]\n",
    "values = np.random.randint(50,100,size =(10,2))\n",
    "index = [dtype[i][0] for i  in range(len(dtype))]\n",
    "print(index)\n",
    "df =pd.DataFrame(values,columns = index)\n",
    "print(df)"
   ]
  },
  {
   "cell_type": "code",
   "execution_count": 54,
   "id": "c3d242d6-b4f9-4db2-8d3b-0b4f93a3c344",
   "metadata": {},
   "outputs": [
    {
     "name": "stdout",
     "output_type": "stream",
     "text": [
      "Task 11:\n",
      "  0  1      2    3     4     5      6    7     8   9     10    11    12\n",
      "0  X  Y  month  day  FFMC   DMC     DC  ISI  temp  RH  wind  rain  area\n",
      "1  7  5    mar  fri  86.2  26.2   94.3  5.1   8.2  51   6.7     0     0\n",
      "2  7  4    oct  tue  90.6  35.4  669.1  6.7    18  33   0.9     0     0\n",
      "3  7  4    oct  sat  90.6  43.7  686.9  6.7  14.6  33   1.3     0     0\n",
      "4  8  6    mar  fri  91.7  33.3   77.5    9   8.3  97     4   0.2     0\n"
     ]
    }
   ],
   "source": [
    "print('Task 11:')\n",
    "df = pandas.read_csv('forestfires.csv', sep=',', header=None)\n",
    "print(df.head())"
   ]
  },
  {
   "cell_type": "code",
   "execution_count": 57,
   "id": "c12c142f-0c6a-415b-aaa5-71047a1b4110",
   "metadata": {},
   "outputs": [
    {
     "name": "stdout",
     "output_type": "stream",
     "text": [
      "Task 13:\n",
      "   0  1      2    3     4\n",
      "0  X  Y  month  day  FFMC\n",
      "1  7  5    mar  fri  86.2\n",
      "2  7  4    oct  tue  90.6\n",
      "3  7  4    oct  sat  90.6\n"
     ]
    }
   ],
   "source": [
    "print('Task 13:') \n",
    "df = pandas.read_csv('forestfires.csv', sep=',', header=None)\n",
    "\n",
    "print(df.iloc[0:4,0:5])\n"
   ]
  },
  {
   "cell_type": "code",
   "execution_count": 60,
   "id": "383573fe-1381-4807-8fb5-76f9bf61d3b9",
   "metadata": {},
   "outputs": [
    {
     "name": "stdout",
     "output_type": "stream",
     "text": [
      "Task 14:\n",
      "     0  1      2    3     4\n",
      "0    X  Y  month  day  FFMC\n",
      "2    7  4    oct  tue  90.6\n",
      "4    8  6    mar  fri  91.7\n",
      "6    8  6    aug  sun  92.3\n",
      "8    8  6    aug  mon  91.5\n",
      "..  .. ..    ...  ...   ...\n",
      "508  2  4    aug  fri    91\n",
      "510  5  4    aug  fri    91\n",
      "512  8  6    aug  sun  81.6\n",
      "514  2  4    aug  sun  81.6\n",
      "516  1  4    aug  sat  94.4\n",
      "\n",
      "[259 rows x 5 columns]\n"
     ]
    }
   ],
   "source": [
    "print('Task 14:') \n",
    "df = pandas.read_csv('forestfires.csv', sep=',', header=None)\n",
    "\n",
    "print(df.iloc[0::2,0:5])"
   ]
  },
  {
   "cell_type": "code",
   "execution_count": 74,
   "id": "2a2027dc-21fe-4816-854e-a1a267826085",
   "metadata": {},
   "outputs": [
    {
     "name": "stdout",
     "output_type": "stream",
     "text": [
      "Task 14:\n",
      "  student  language  science  maths  history\n",
      "0   kumar        90       56     34       34\n",
      "1   kevin        10       34     32       67\n",
      "2   sammy        90       23     12       32\n",
      "3  janice        20       67     90       45\n",
      "4   peter        30       56     45       65\n",
      "5    prem        90       45     45       34\n",
      "6  carrol        50       90     45       23\n",
      "   language  science  maths  history\n",
      "0        90       56     34       34\n",
      "1        10       34     32       67\n",
      "2        90       23     12       32\n",
      "3        20       67     90       45\n",
      "4        30       56     45       65\n",
      "5        90       45     45       34\n",
      "6        50       90     45       23\n",
      "  student  language  science  maths  history  total\n",
      "0   kumar        90       56     34       34    214\n",
      "1   kevin        10       34     32       67    143\n",
      "2   sammy        90       23     12       32    157\n",
      "3  janice        20       67     90       45    222\n",
      "4   peter        30       56     45       65    196\n",
      "5    prem        90       45     45       34    214\n",
      "6  carrol        50       90     45       23    208\n"
     ]
    }
   ],
   "source": [
    "print('Task 15:') \n",
    "df = pandas.read_csv('abc.csv', sep=',')\n",
    "print(df)\n",
    "df1 = df.drop(['student'],axis=1)\n",
    "print(df1)\n",
    "df['total'] = df1.sum(axis=1)\n",
    "print(df)"
   ]
  },
  {
   "cell_type": "code",
   "execution_count": 171,
   "id": "c1b8cb17-f8c1-4f50-b984-8e6e68325f80",
   "metadata": {},
   "outputs": [
    {
     "name": "stdout",
     "output_type": "stream",
     "text": [
      "Task 16:\n",
      "  student  language  science  maths  history\n",
      "0   kumar        90       56     34       34\n",
      "1   kevin        10       34     32       67\n",
      "2   sammy        90       23     12       32\n",
      "3  janice        20       67     90       45\n",
      "4   peter        30       56     45       65\n",
      "5    prem        90       45     45       34\n",
      "6  carrol        50       90     45       23\n",
      "  student  language  science  maths  history\n",
      "3  janice        20       67     90       45\n",
      "4   peter        30       56     45       65\n",
      "5    prem        90       45     45       34\n",
      "6  carrol        50       90     45       23\n"
     ]
    }
   ],
   "source": [
    "print('Task 16:') \n",
    "df = pandas.read_csv('abc.csv', sep=',')\n",
    "print(df)\n",
    "df1 = df[df.maths>40]\n",
    "print(df1)"
   ]
  },
  {
   "cell_type": "code",
   "execution_count": 80,
   "id": "8f393a1e-154e-44e1-b6ce-5226cb4a62a6",
   "metadata": {},
   "outputs": [
    {
     "name": "stdout",
     "output_type": "stream",
     "text": [
      "Task 17:\n",
      "  student  language  science  maths  history\n",
      "0   kumar        90       56     34       34\n",
      "1   kevin        10       34     32       67\n",
      "2   sammy        90       23     12       32\n",
      "3  janice        20       67     90       45\n",
      "4   peter        30       56     45       65\n",
      "5    prem        90       45     45       34\n",
      "6  carrol        50       90     45       23\n",
      "  student  language  science  maths  history\n",
      "0   kumar        90       56     34       34\n",
      "2   sammy        90       23     12       32\n",
      "5    prem        90       45     45       34\n",
      "6  carrol        50       90     45       23\n"
     ]
    }
   ],
   "source": [
    "print('Task 17:') \n",
    "df = pandas.read_csv('abc.csv', sep=',')\n",
    "print(df)\n",
    "df1 = df.query('language>=50')\n",
    "print(df1)"
   ]
  },
  {
   "cell_type": "code",
   "execution_count": 81,
   "id": "9e662460-44bc-4ea1-a38b-ef70019a99a0",
   "metadata": {},
   "outputs": [
    {
     "name": "stdout",
     "output_type": "stream",
     "text": [
      "Task 17:\n",
      "  student  language  science  maths  history\n",
      "0   kumar        90       56     34       34\n",
      "1   kevin        10       34     32       67\n",
      "2   sammy        90       23     12       32\n",
      "3  janice        20       67     90       45\n",
      "4    prem        90       45     45       34\n",
      "5  carrol        50       90     45       23\n"
     ]
    }
   ],
   "source": [
    "print('Task 18:') \n",
    "df = pandas.read_csv('abc.csv', sep=',',skiprows = [5])\n",
    "print(df)\n"
   ]
  },
  {
   "cell_type": "code",
   "execution_count": 82,
   "id": "a923883b-22c5-4747-9bd4-1ce1a94edb1b",
   "metadata": {},
   "outputs": [
    {
     "name": "stdout",
     "output_type": "stream",
     "text": [
      "Task 17:\n",
      "  student  language  science  maths  history\n",
      "0   sammy        90       23     12       32\n",
      "1  janice        20       67     90       45\n",
      "2    prem        90       45     45       34\n",
      "3  carrol        50       90     45       23\n"
     ]
    }
   ],
   "source": [
    "print('Task 19:') \n",
    "df = pandas.read_csv('abc.csv', sep=',',skiprows = [1,2,5])\n",
    "print(df)\n"
   ]
  },
  {
   "cell_type": "code",
   "execution_count": 83,
   "id": "9e339360-e6ae-47be-b081-c7e1ae80587d",
   "metadata": {},
   "outputs": [
    {
     "name": "stdout",
     "output_type": "stream",
     "text": [
      "Task 17:\n",
      "maths\n"
     ]
    }
   ],
   "source": [
    "print('Task 20:') \n",
    "df = pandas.read_csv('abc.csv', sep=',',skiprows = [5])\n",
    "print(df.columns[3])\n"
   ]
  },
  {
   "cell_type": "code",
   "execution_count": 84,
   "id": "c33d5698-6774-42ec-8190-8d8281dd097f",
   "metadata": {},
   "outputs": [
    {
     "name": "stdout",
     "output_type": "stream",
     "text": [
      "Task 18:\n",
      "    kumar  90  56  34  34.1\n",
      "0   kevin  10  34  32    67\n",
      "1   sammy  90  23  12    32\n",
      "2  janice  20  67  90    45\n",
      "3   peter  30  56  45    65\n",
      "4    prem  90  45  45    34\n",
      "5  carrol  50  90  45    23\n"
     ]
    }
   ],
   "source": [
    "print('Task 21:') \n",
    "df = pandas.read_csv('abc.csv', sep=',',skiprows = [0])\n",
    "print(df)"
   ]
  },
  {
   "cell_type": "code",
   "execution_count": 173,
   "id": "d0494751-b77e-4350-bc22-c52d0e7a0143",
   "metadata": {},
   "outputs": [
    {
     "name": "stdout",
     "output_type": "stream",
     "text": [
      "Task 22:\n",
      "(3, 2)\n",
      "            X   Y\n",
      "10         21  23\n",
      "32         44  34\n",
      "52         63  56\n"
     ]
    }
   ],
   "source": [
    "print('Task 22:')\n",
    "from io import StringIO\n",
    "\n",
    "s = \"\"\"\n",
    "        X,Y\n",
    "        10, 21,23\n",
    "        32, 44,34\n",
    "        52, 63,56\n",
    "    \"\"\"\n",
    "\n",
    "df = pd.read_csv(StringIO(s))\n",
    "\n",
    "print(df.shape)\n",
    "print(df)"
   ]
  },
  {
   "cell_type": "code",
   "execution_count": 100,
   "id": "ba052bfc-3725-4e6b-8da5-84fc14a14129",
   "metadata": {},
   "outputs": [
    {
     "name": "stdout",
     "output_type": "stream",
     "text": [
      "Task 23:\n",
      "  student  language  science  maths  history\n",
      "0   kumar        90       56     34       34\n",
      "1   kevin        10       34     32       67\n",
      "2   sammy        90       23     12       32\n",
      "3  janice        20       67     90       45\n",
      "4   peter        30       56     45       65\n",
      "5    prem        90       45     45       34\n",
      "6  carrol        50       90     45       23\n",
      "  student  language  science  maths  history  max\n",
      "0   kumar        90       56     34       34   90\n",
      "1   kevin        10       34     32       67   67\n",
      "2   sammy        90       23     12       32   90\n",
      "3  janice        20       67     90       45   90\n",
      "4   peter        30       56     45       65   65\n",
      "5    prem        90       45     45       34   90\n",
      "6  carrol        50       90     45       23   90\n",
      "  student  language  science  maths  history  max  min\n",
      "0   kumar        90       56     34       34   90   34\n",
      "1   kevin        10       34     32       67   67   10\n",
      "2   sammy        90       23     12       32   90   12\n",
      "3  janice        20       67     90       45   90   20\n",
      "4   peter        30       56     45       65   65   30\n",
      "5    prem        90       45     45       34   90   34\n",
      "6  carrol        50       90     45       23   90   23\n",
      "  student  language  science  maths  history  max  min  sum\n",
      "0   kumar        90       56     34       34   90   34  214\n",
      "1   kevin        10       34     32       67   67   10  143\n",
      "2   sammy        90       23     12       32   90   12  157\n",
      "3  janice        20       67     90       45   90   20  222\n",
      "4   peter        30       56     45       65   65   30  196\n",
      "5    prem        90       45     45       34   90   34  214\n",
      "6  carrol        50       90     45       23   90   23  208\n",
      "  student  language  science  maths  history  max  min  sum  average\n",
      "0   kumar        90       56     34       34   90   34  214       53\n",
      "1   kevin        10       34     32       67   67   10  143       35\n",
      "2   sammy        90       23     12       32   90   12  157       39\n",
      "3  janice        20       67     90       45   90   20  222       55\n",
      "4   peter        30       56     45       65   65   30  196       49\n",
      "5    prem        90       45     45       34   90   34  214       53\n",
      "6  carrol        50       90     45       23   90   23  208       52\n"
     ]
    }
   ],
   "source": [
    "print('Task 23:') \n",
    "df = pandas.read_csv('abc.csv', sep=',')\n",
    "print(df)\n",
    "df1 = df.drop(['student'],axis=1)\n",
    "df['max']= df1.max(axis=1)\n",
    "print(df)\n",
    "df['min']= df1.min(axis=1)\n",
    "print(df)\n",
    "df['sum'] = df1.sum(axis=1)\n",
    "print(df)\n",
    "df['average'] = df1.mean(axis=1).astype(int)\n",
    "print(df)"
   ]
  },
  {
   "cell_type": "code",
   "execution_count": 103,
   "id": "80abcd29-c221-4705-8ea4-09902d289bce",
   "metadata": {},
   "outputs": [
    {
     "name": "stdout",
     "output_type": "stream",
     "text": [
      "Task 23:\n",
      "  student  language  science  maths  history\n",
      "0   kumar        90       56     34       34\n",
      "1   kevin        10       34     32       67\n",
      "2   sammy        90       23     12       32\n",
      "3  janice        20       67     90       45\n",
      "4   peter        30       56     45       65\n",
      "5    prem        90       45     45       34\n",
      "6  carrol        50       90     45       23\n",
      "  student  language  science  maths  history  max  min  sum  average  \\\n",
      "0   kumar        90       56     34       34   90   34  214       53   \n",
      "1   kevin        10       34     32       67   67   10  143       35   \n",
      "2   sammy        90       23     12       32   90   12  157       39   \n",
      "3  janice        20       67     90       45   90   20  222       55   \n",
      "4   peter        30       56     45       65   65   30  196       49   \n",
      "5    prem        90       45     45       34   90   34  214       53   \n",
      "6  carrol        50       90     45       23   90   23  208       52   \n",
      "\n",
      "   math_special  \n",
      "0            68  \n",
      "1            64  \n",
      "2            24  \n",
      "3           180  \n",
      "4            90  \n",
      "5            90  \n",
      "6            90  \n"
     ]
    }
   ],
   "source": [
    "print('Task 24:') \n",
    "df = pandas.read_csv('abc.csv', sep=',')\n",
    "print(df)\n",
    "df1 = df.drop(['student'],axis=1)\n",
    "df['max']= df1.max(axis=1)\n",
    "\n",
    "df['min']= df1.min(axis=1)\n",
    "\n",
    "df['sum'] = df1.sum(axis=1)\n",
    "df['average'] = df1.mean(axis=1).astype(int)\n",
    "def math1(row):\n",
    "    return (row.maths*2)\n",
    "df['math_special'] = df1.apply(math1,axis=1).astype(int)\n",
    "print(df)"
   ]
  },
  {
   "cell_type": "code",
   "execution_count": 118,
   "id": "d66e2925-918d-4ad5-aacd-44e82c25f10a",
   "metadata": {},
   "outputs": [
    {
     "name": "stdout",
     "output_type": "stream",
     "text": [
      "Task 25:\n",
      "  student  language  science  maths  history\n",
      "0   kumar        90       56     34       34\n",
      "1   kevin        10       34     32       67\n",
      "2   sammy        90       23     12       32\n",
      "3  janice        20       67     90       45\n",
      "4   peter        30       56     45       65\n",
      "5    prem        90       45     45       34\n",
      "6  carrol        50       90     45       23\n",
      "  student  language  science  maths  history  max  min  sum  average  pass\n",
      "0   kumar        90       56     34       34   90   34  214       53  Pass\n",
      "1   kevin        10       34     32       67   67   10  143       35  Fail\n",
      "2   sammy        90       23     12       32   90   12  157       39  Fail\n",
      "3  janice        20       67     90       45   90   20  222       55  Pass\n",
      "4   peter        30       56     45       65   65   30  196       49  Pass\n",
      "5    prem        90       45     45       34   90   34  214       53  Pass\n",
      "6  carrol        50       90     45       23   90   23  208       52  Pass\n"
     ]
    }
   ],
   "source": [
    "print('Task 25:') \n",
    "def pass_one_subject(row):\n",
    "    if(row.maths >=45):\n",
    "        return 'Pass'\n",
    "    if(row.language > 40 and row.science > 44):\n",
    "        return 'Pass'\n",
    "    \n",
    "    return 'Fail' \n",
    "\n",
    "df = pandas.read_csv('abc.csv', sep=',')\n",
    "print(df)\n",
    "df1 = df.drop(['student'],axis=1)\n",
    "df['max']= df1.max(axis=1)\n",
    "\n",
    "df['min']= df1.min(axis=1)\n",
    "\n",
    "df['sum'] = df1.sum(axis=1)\n",
    "df['average'] = df1.mean(axis=1).astype(int)\n",
    "def math1(row):\n",
    "    return (row.maths*2)\n",
    "#function will return string \n",
    "df['pass'] = df1.apply(pass_one_subject,axis=1)\n",
    "print(df)\n"
   ]
  },
  {
   "cell_type": "code",
   "execution_count": 110,
   "id": "e8ec6098-27a9-456b-a445-afb80eab9245",
   "metadata": {},
   "outputs": [
    {
     "name": "stdout",
     "output_type": "stream",
     "text": [
      "Task 26:\n",
      "  student  language  science  maths  history\n",
      "0   kumar        90     56.0   34.0       34\n",
      "1   kevin        10      NaN   32.0       67\n",
      "2   sammy        90     23.0   12.0       32\n",
      "3  janice        20      NaN   90.0       45\n",
      "4   peter        30     56.0   45.0       65\n",
      "5    prem        90     45.0    NaN       34\n",
      "6  carrol        50     90.0   45.0       23\n",
      "  student  language  science  maths  history\n",
      "0   kumar        90     56.0   34.0       34\n",
      "1   kevin        10     54.0   32.0       67\n",
      "2   sammy        90     23.0   12.0       32\n",
      "3  janice        20     54.0   90.0       45\n",
      "4   peter        30     56.0   45.0       65\n",
      "5    prem        90     45.0   43.0       34\n",
      "6  carrol        50     90.0   45.0       23\n"
     ]
    }
   ],
   "source": [
    "print('Task 26:') \n",
    "df = pandas.read_csv('abc2.csv', sep=',')\n",
    "print(df)\n",
    "df1 = df.drop(['student'],axis =1)\n",
    "df.fillna(df1.mean(),inplace =True)\n",
    "print(df)\n"
   ]
  },
  {
   "cell_type": "code",
   "execution_count": 116,
   "id": "ca97d9d7-3a14-43e0-b818-d58c488662e9",
   "metadata": {},
   "outputs": [
    {
     "name": "stdout",
     "output_type": "stream",
     "text": [
      "Task 27:\n",
      "      0     1   2   3   4\n",
      "0   NaN   NaN  35  26  29\n",
      "1  23.0  21.0  36  35  39\n",
      "2   NaN   NaN  32  38  27\n",
      "3  27.0  26.0  25  21  33\n",
      "4   NaN   NaN  20  21  22\n",
      "5  25.0  24.0  38  26  20\n",
      "6   NaN   NaN  37  26  30\n",
      "7  38.0  29.0  35  20  29\n",
      "8   NaN   NaN  27  30  31\n",
      "9  28.0  24.0  30  31  33\n",
      "      0     1   2   3   4  test\n",
      "0   NaN   NaN  35  26  29    90\n",
      "1  23.0  21.0  36  35  39   110\n",
      "2   NaN   NaN  32  38  27    97\n",
      "3  27.0  26.0  25  21  33    79\n",
      "4   NaN   NaN  20  21  22    63\n",
      "5  25.0  24.0  38  26  20    84\n",
      "6   NaN   NaN  37  26  30    93\n",
      "7  38.0  29.0  35  20  29    84\n",
      "8   NaN   NaN  27  30  31    88\n",
      "9  28.0  24.0  30  31  33    94\n"
     ]
    }
   ],
   "source": [
    "print('Task 27:')\n",
    "df = pd.DataFrame(np.random.randint(20 ,40, size=(10,5)))\n",
    "df.iloc[0::2, 0:2] = np.nan \n",
    "print(df)\n",
    "df.loc[:, 'test'] = df.iloc[:, 2:].sum(axis=1)\n",
    "print(df)"
   ]
  },
  {
   "cell_type": "code",
   "execution_count": 117,
   "id": "b51cbd21-b866-41ea-80a4-083d247b229c",
   "metadata": {},
   "outputs": [
    {
     "name": "stdout",
     "output_type": "stream",
     "text": [
      "Task 28:\n",
      "(16, 5)\n"
     ]
    }
   ],
   "source": [
    "print('Task 28:') \n",
    "df = pandas.read_csv('score.csv', sep=',', encoding = \"ISO-8859-1\")\n",
    "print(df.shape) "
   ]
  },
  {
   "cell_type": "code",
   "execution_count": 134,
   "id": "2aa1b8ea-367e-4a21-94ac-c8654ac2b05a",
   "metadata": {},
   "outputs": [
    {
     "name": "stdout",
     "output_type": "stream",
     "text": [
      "Task 29:\n",
      "    A   B   C   D   E\n",
      "0  24  26  30  22  22\n",
      "1  22  22  27  23  29\n",
      "2  35  34  39  22  25\n",
      "3  33  25  37  20  21\n",
      "4  24  22  26  36  28\n",
      "5  21  26  27  39  39\n",
      "6  36  20  30  38  29\n",
      "7  29  26  34  32  30\n",
      "8  39  39  22  23  34\n",
      "9  34  28  39  31  20\n",
      "      A     B   C   D   E\n",
      "0   NaN   NaN  30  22  22\n",
      "1  22.0  22.0  27  23  29\n",
      "2   NaN   NaN  39  22  25\n",
      "3  33.0  25.0  37  20  21\n",
      "4   NaN   NaN  26  36  28\n",
      "5  21.0  26.0  27  39  39\n",
      "6   NaN   NaN  30  38  29\n",
      "7  29.0  26.0  34  32  30\n",
      "8   NaN   NaN  22  23  34\n",
      "9  34.0  28.0  39  31  20\n",
      "      A     B   C   D   E\n",
      "0  27.8  25.4  30  22  22\n",
      "1  22.0  22.0  27  23  29\n",
      "2  27.8  25.4  39  22  25\n",
      "3  33.0  25.0  37  20  21\n",
      "4  27.8  25.4  26  36  28\n",
      "5  21.0  26.0  27  39  39\n",
      "6  27.8  25.4  30  38  29\n",
      "7  29.0  26.0  34  32  30\n",
      "8  27.8  25.4  22  23  34\n",
      "9  34.0  28.0  39  31  20\n",
      "      A     B   C   D   E\n",
      "0   NaN   NaN  30  22  22\n",
      "1  22.0  22.0  27  23  29\n",
      "2   NaN   NaN  39  22  25\n",
      "3  33.0  25.0  37  20  21\n",
      "4   NaN   NaN  26  36  28\n",
      "5  21.0  26.0  27  39  39\n",
      "6   NaN   NaN  30  38  29\n",
      "7  29.0  26.0  34  32  30\n",
      "8   NaN   NaN  22  23  34\n",
      "9  34.0  28.0  39  31  20\n"
     ]
    }
   ],
   "source": [
    "print('Task 29:')\n",
    "df = pd.DataFrame(np.random.randint(20 ,40, size=(10,5)),columns=list('ABCDE'))\n",
    "print(df)\n",
    "df.iloc[0::2, 0:2] = np.nan \n",
    "print(df)\n",
    "#inplace == True it changes the original dataframe\n",
    "df1=df.fillna(df.mean() ,inplace =False)\n",
    "print(df1)\n",
    "print(df)\n"
   ]
  },
  {
   "cell_type": "code",
   "execution_count": 141,
   "id": "b8939810-a187-4064-8f75-c9370f34fa13",
   "metadata": {},
   "outputs": [
    {
     "name": "stdout",
     "output_type": "stream",
     "text": [
      "Task 30:\n",
      "    0  1    2    3     4     5      6     7     8   9    10 11     12\n",
      "514  2  4  aug  sun  81.6  56.7  665.6   1.9  21.9  71  5.8  0  54.29\n",
      "515  7  4  aug  sun  81.6  56.7  665.6   1.9  21.2  70  6.7  0  11.16\n",
      "516  1  4  aug  sat  94.4   146  614.7  11.3  25.6  42    4  0      0\n",
      "517  6  3  nov  tue  79.5     3  106.7   1.1  11.8  31  4.5  0      0\n"
     ]
    }
   ],
   "source": [
    "print('Task 30:')\n",
    "df = pandas.read_csv('forestfires.csv', sep=',', header=None)\n",
    "print(df[-4:])"
   ]
  },
  {
   "cell_type": "code",
   "execution_count": 139,
   "id": "871d5d61-2dbf-40c3-ab24-24e15a09ec88",
   "metadata": {},
   "outputs": [
    {
     "name": "stdout",
     "output_type": "stream",
     "text": [
      "Task 31:\n",
      "0    0.01\n",
      "1    0.02\n",
      "2    0.03\n",
      "3    0.04\n",
      "4    0.05\n",
      "dtype: float64\n",
      "0    2.01\n",
      "1    3.03\n",
      "2    4.06\n",
      "3    5.10\n",
      "4    6.15\n",
      "dtype: float64\n"
     ]
    }
   ],
   "source": [
    "print('Task 31:')\n",
    "import functools\n",
    "series1 = pd.Series([i / 100.0 for i in range(1,6)])\n",
    "print(series1)\n",
    "def CumRet(x,y):\n",
    "    return x +(1 + y)\n",
    "def Red(x):\n",
    "    return functools.reduce(CumRet,x,1.0)\n",
    "s2 = series1.expanding().apply(Red)\n",
    "\n",
    "print(s2)"
   ]
  },
  {
   "cell_type": "code",
   "execution_count": 145,
   "id": "9e86748f-62ee-4481-9399-3d316181feb9",
   "metadata": {},
   "outputs": [
    {
     "name": "stdout",
     "output_type": "stream",
     "text": [
      "Task 30:\n",
      "     X  Y month  day  FFMC    DMC     DC   ISI  temp  RH  wind  rain   area\n",
      "513  2  4   aug  sun  81.6   56.7  665.6   1.9  21.9  71   5.8   0.0  54.29\n",
      "514  7  4   aug  sun  81.6   56.7  665.6   1.9  21.2  70   6.7   0.0  11.16\n",
      "515  1  4   aug  sat  94.4  146.0  614.7  11.3  25.6  42   4.0   0.0   0.00\n"
     ]
    }
   ],
   "source": [
    "print('Task 32:')\n",
    "df = pandas.read_csv('forestfires.csv', sep=',')\n",
    "print(df[-4:-1])"
   ]
  },
  {
   "cell_type": "code",
   "execution_count": 143,
   "id": "f5cfc241-478e-43f8-94ac-5be3325495b2",
   "metadata": {},
   "outputs": [
    {
     "name": "stdout",
     "output_type": "stream",
     "text": [
      "Task 30:\n",
      "   X  Y month  day  FFMC   DMC     DC  ISI  temp  RH  wind  rain  area\n",
      "2  7  4   oct  sat  90.6  43.7  686.9  6.7  14.6  33   1.3   0.0   0.0\n",
      "3  8  6   mar  fri  91.7  33.3   77.5  9.0   8.3  97   4.0   0.2   0.0\n"
     ]
    }
   ],
   "source": [
    "print('Task 33:')\n",
    "df = pandas.read_csv('forestfires.csv', sep=',')\n",
    "print(df[2:4])"
   ]
  },
  {
   "cell_type": "code",
   "execution_count": 146,
   "id": "8dca51b0-c5d1-4b9e-b04f-b35c081acf79",
   "metadata": {},
   "outputs": [
    {
     "name": "stdout",
     "output_type": "stream",
     "text": [
      "Task 34:\n",
      "  0  1    2    3     4      5      6     7     8   9    10   11 12\n",
      "1  7  5  mar  fri  86.2   26.2   94.3   5.1   8.2  51  6.7    0  0\n",
      "2  7  4  oct  tue  90.6   35.4  669.1   6.7    18  33  0.9    0  0\n",
      "3  7  4  oct  sat  90.6   43.7  686.9   6.7  14.6  33  1.3    0  0\n",
      "4  8  6  mar  fri  91.7   33.3   77.5     9   8.3  97    4  0.2  0\n",
      "5  8  6  mar  sun  89.3   51.3  102.2   9.6  11.4  99  1.8    0  0\n",
      "6  8  6  aug  sun  92.3   85.3    488  14.7  22.2  29  5.4    0  0\n",
      "7  8  6  aug  mon  92.3   88.9  495.6   8.5  24.1  27  3.1    0  0\n",
      "8  8  6  aug  mon  91.5  145.4  608.2  10.7     8  86  2.2    0  0\n"
     ]
    }
   ],
   "source": [
    "print('Task 34:')\n",
    "df = pandas.read_csv('forestfires.csv', sep=',', header=None)\n",
    "print(df.iloc[1:9])"
   ]
  },
  {
   "cell_type": "code",
   "execution_count": 158,
   "id": "0d72b44a-8703-489b-ac47-ccdcfaa12cce",
   "metadata": {},
   "outputs": [
    {
     "name": "stdout",
     "output_type": "stream",
     "text": [
      "Task 36:\n",
      "1000\n",
      "          date  random_1  random_2  random_3\n",
      "0   2012-04-10       163        66        40\n",
      "1   2012-04-11       151       185        85\n",
      "2   2012-04-12       154       180        32\n",
      "3   2012-04-13       134        81        32\n",
      "4   2012-04-14       160       130       142\n",
      "..         ...       ...       ...       ...\n",
      "995 2014-12-31       105       120        34\n",
      "996 2015-01-01        17       146       198\n",
      "997 2015-01-02       120        64        67\n",
      "998 2015-01-03       126        60        45\n",
      "999 2015-01-04       195        56        28\n",
      "\n",
      "[1000 rows x 4 columns]\n"
     ]
    }
   ],
   "source": [
    "print('Task 36:')  \n",
    "def xrange(x):\n",
    "    return iter(range(x))\n",
    "import random as rn\n",
    "rnd_1  =  [ rn.randrange ( 1 , 200 )  for  _  in  range ( 1000 )] \n",
    "rnd_2  =  [ rn.randrange ( 1 , 200 )  for  _  in  range ( 1000 )] \n",
    "rnd_3  =  [ rn.randrange ( 1 , 200)  for  _ in  range ( 1000 )] \n",
    "date  =  pd . date_range ( '2012-4-10' ,  '2015-1-4' )\n",
    "print(len(date))\n",
    "data  =  pd . DataFrame ({ 'date' : date ,  'random_1' :  rnd_1 ,  'random_2' :  rnd_2 ,  'random_3' :  rnd_3 })\n",
    "\n",
    "print(data)"
   ]
  },
  {
   "cell_type": "code",
   "execution_count": 159,
   "id": "2fc8499d-2ba5-4cda-ac51-e22f18d5e325",
   "metadata": {},
   "outputs": [
    {
     "name": "stdout",
     "output_type": "stream",
     "text": [
      "Task 37:\n",
      "          date  rnd_1  rnd_2  rnd_3\n",
      "29  2012-05-09     17     50    143\n",
      "52  2012-06-01     18     63    196\n",
      "56  2012-06-05     18     29     69\n",
      "64  2012-06-13      8    184    138\n",
      "65  2012-06-14     16    142     16\n",
      "..         ...    ...    ...    ...\n",
      "966 2014-12-02     10    154    129\n",
      "975 2014-12-11     12     67    177\n",
      "979 2014-12-15     13     38     12\n",
      "989 2014-12-25      7     65    110\n",
      "999 2015-01-04      6    156     99\n",
      "\n",
      "[93 rows x 4 columns]\n"
     ]
    }
   ],
   "source": [
    "print('Task 37:')\n",
    "below_15 = data[data['random_1'] < 20]    \n",
    "print(below_50)"
   ]
  },
  {
   "cell_type": "code",
   "execution_count": 162,
   "id": "0cde6726-0700-4eb9-b846-bbfa1d493bbb",
   "metadata": {},
   "outputs": [
    {
     "name": "stdout",
     "output_type": "stream",
     "text": [
      "          date  random_1  random_2  random_3\n",
      "55  2012-06-04         6       158       138\n",
      "84  2012-07-03         5       122         2\n",
      "101 2012-07-20         6       177       112\n",
      "106 2012-07-25         5       124        48\n",
      "112 2012-07-31         5       197        21\n",
      "248 2012-12-14         6         8       150\n",
      "267 2013-01-02         6       165        16\n",
      "384 2013-04-29         5       134         9\n",
      "385 2013-04-30         6        82       170\n",
      "403 2013-05-18         8       136        88\n",
      "408 2013-05-23         5        12       180\n",
      "458 2013-07-12         6       138        30\n",
      "475 2013-07-29         7       163        35\n",
      "495 2013-08-18         5       143       116\n",
      "513 2013-09-05         6       112       148\n",
      "528 2013-09-20         8        86       124\n",
      "538 2013-09-30         9       128        55\n",
      "558 2013-10-20         7        48        86\n",
      "583 2013-11-14         7        34         5\n",
      "592 2013-11-23         8        37         7\n",
      "599 2013-11-30         7        91       118\n",
      "621 2013-12-22         5       143        91\n",
      "672 2014-02-11         7       179        79\n",
      "675 2014-02-14         8       148       184\n",
      "679 2014-02-18         6       119        10\n",
      "687 2014-02-26         7        31       126\n",
      "741 2014-04-21         6         4       122\n",
      "807 2014-06-26         9       113        37\n",
      "811 2014-06-30         8       112       135\n",
      "814 2014-07-03         6       139       149\n",
      "824 2014-07-13         8       147        53\n",
      "830 2014-07-19         7       138        88\n",
      "840 2014-07-29         5        73        97\n",
      "842 2014-07-31         9        61        84\n",
      "876 2014-09-03         8        39        56\n",
      "886 2014-09-13         8       194       111\n",
      "918 2014-10-15         7        96       154\n",
      "939 2014-11-05         5        99        12\n",
      "968 2014-12-04         9        39       124\n",
      "983 2014-12-19         5       121       175\n",
      "991 2014-12-27         5       172         6\n"
     ]
    }
   ],
   "source": [
    "five_to_ten = data[(data['random_1']>=5 )& (data['random_1']<10)]\n",
    "print(five_to_ten) "
   ]
  },
  {
   "cell_type": "code",
   "execution_count": 163,
   "id": "78ddb60f-9df9-42bd-a75c-58cdd64c446a",
   "metadata": {},
   "outputs": [
    {
     "name": "stdout",
     "output_type": "stream",
     "text": [
      "Task 39:\n",
      "          date  random_1  random_2  random_3\n",
      "58  2012-06-07        15        84       199\n",
      "75  2012-06-24        19        16        22\n",
      "151 2012-09-08        15        22        72\n",
      "206 2012-11-02        18       187       163\n",
      "207 2012-11-03        16       148        97\n",
      "261 2012-12-27        15       110        60\n",
      "296 2013-01-31        18       121        35\n",
      "399 2013-05-14        15       128       187\n",
      "432 2013-06-16        19       100       136\n",
      "574 2013-11-05        17       143        42\n",
      "629 2013-12-30        15        42        68\n",
      "644 2014-01-14        17       197       156\n",
      "760 2014-05-10        18       146       118\n",
      "867 2014-08-25        19       166       100\n",
      "920 2014-10-17        16        79        60\n",
      "931 2014-10-28        17       146       132\n",
      "996 2015-01-01        17       146       198\n"
     ]
    }
   ],
   "source": [
    "print('Task 39:')  \n",
    "fifteen_to_20 = data[(data['random_1']>=15 )& (data['random_1']<20)]\n",
    "print(fifteen_to_20)"
   ]
  },
  {
   "cell_type": "code",
   "execution_count": 164,
   "id": "a3bc32e5-c8db-4315-a880-e116bc57b7b1",
   "metadata": {},
   "outputs": [
    {
     "name": "stdout",
     "output_type": "stream",
     "text": [
      "Task 40:\n",
      "          date  random_1  random_2  random_3\n",
      "16  2012-04-26        24        11        92\n",
      "33  2012-05-13        30        21       105\n",
      "46  2012-05-26        27       119       158\n",
      "58  2012-06-07        15        84       199\n",
      "75  2012-06-24        19        16        22\n",
      "..         ...       ...       ...       ...\n",
      "948 2014-11-14        27        70        27\n",
      "964 2014-11-30        24       155       139\n",
      "970 2014-12-06        32        23       142\n",
      "977 2014-12-13        29       108       134\n",
      "996 2015-01-01        17       146       198\n",
      "\n",
      "[77 rows x 4 columns]\n"
     ]
    }
   ],
   "source": [
    "print('Task 40:')  \n",
    "fifteen_to_20 = data[(data['random_1']>=15 )& (data['random_1']<33)]\n",
    "print(fifteen_to_20)"
   ]
  },
  {
   "cell_type": "code",
   "execution_count": 167,
   "id": "a527b8f4-6aaf-41fb-bd96-b667ed9186dd",
   "metadata": {},
   "outputs": [
    {
     "name": "stdout",
     "output_type": "stream",
     "text": [
      "TASK 41:\n",
      "          date  random_1  random_2  random_3\n",
      "0   2022-01-01        20        12        24\n",
      "1   2022-01-02        15        13        17\n",
      "2   2022-01-03        26        38        38\n",
      "3   2022-01-04        16        40        17\n",
      "4   2022-01-05        18        25        17\n",
      "..         ...       ...       ...       ...\n",
      "332 2022-11-29        15        24        18\n",
      "333 2022-11-30        20        28        31\n",
      "334 2022-12-01        25        43        34\n",
      "335 2022-12-02        24        20        22\n",
      "336 2022-12-03        28        25        24\n",
      "\n",
      "[337 rows x 4 columns]\n"
     ]
    }
   ],
   "source": [
    "print('TASK 41:')\n",
    "date = pd.date_range('2022-01-01','2022-12-03')\n",
    "n = len(date)\n",
    "def fillrange(start,end,count):\n",
    "    return [rn.randrange(start,end) for _ in range(count)] \n",
    "random_1 = fillrange(10,30,n)\n",
    "random_2 = fillrange(10,50,n)\n",
    "random_3 = fillrange(10,40,n)\n",
    "data = pd.DataFrame({'date':date,'random_1':random_1,'random_2':random_2,'random_3':random_3})\n",
    "print(data)"
   ]
  },
  {
   "cell_type": "code",
   "execution_count": 174,
   "id": "1ba580c1-7292-4a25-9c6c-fae04f099ac3",
   "metadata": {},
   "outputs": [
    {
     "name": "stdout",
     "output_type": "stream",
     "text": [
      "Task 42\n",
      "            random_1  random_2  random_3\n",
      "date                                    \n",
      "2022-01-01        20        12        24\n",
      "2022-01-02        15        13        17\n",
      "2022-01-03        26        38        38\n",
      "2022-01-04        16        40        17\n",
      "2022-01-05        18        25        17\n"
     ]
    }
   ],
   "source": [
    "print('Task 42')\n",
    "date = data.set_index('date')\n",
    "print(date.head())"
   ]
  },
  {
   "cell_type": "code",
   "execution_count": 205,
   "id": "fde3f9de-39a3-48bc-b50b-127656d66df2",
   "metadata": {},
   "outputs": [
    {
     "name": "stdout",
     "output_type": "stream",
     "text": [
      "Task 43:\n",
      "    A   B    C\n",
      "0  10  90  110\n",
      "1  20  80  120\n",
      "2  30  70  130\n",
      "3  40  60  140\n",
      "changing on one column\n",
      "    A   B    C\n",
      "0  10  90  110\n",
      "1  20  45  120\n",
      "2  30  45  130\n",
      "3  40  45  140\n"
     ]
    }
   ],
   "source": [
    "print('Task 43:') \n",
    "df = pd.DataFrame({\n",
    "    'A' : [10,20,30,40], \n",
    "    'B' : [90,80,70,60],\n",
    "    'C' : [110,120,130,140]\n",
    "})\n",
    "print(df) \n",
    "\n",
    "print('changing on one column')\n",
    "# Change columns\n",
    "df.loc[df.A >= 20,'B'] = 45\n",
    "print(df)"
   ]
  },
  {
   "cell_type": "code",
   "execution_count": 207,
   "id": "e3c6e5c7-486d-46e0-8d91-05d21816f548",
   "metadata": {},
   "outputs": [
    {
     "name": "stdout",
     "output_type": "stream",
     "text": [
      "Task 44:\n",
      "changing on multipe columns\n",
      "    A   B   C\n",
      "0  10  35  25\n",
      "1  20  35  25\n",
      "2  30  35  25\n",
      "3  40  35  25\n"
     ]
    }
   ],
   "source": [
    "print('Task 44:')  \n",
    "print('changing on multipe columns')\n",
    "df.loc[df.A > 2,['B', 'C']] = [(35),25]\n",
    "print(df)"
   ]
  },
  {
   "cell_type": "code",
   "execution_count": 211,
   "id": "e0b92d9f-ff90-4b84-bcee-518fc4f27a0a",
   "metadata": {},
   "outputs": [
    {
     "name": "stdout",
     "output_type": "stream",
     "text": [
      "Task 45:\n",
      "    A   B   C\n",
      "0  10  20  30\n",
      "1  10  20  30\n",
      "2  30  35  25\n",
      "3  40  35  25\n"
     ]
    }
   ],
   "source": [
    "print('Task 45:') \n",
    "filter = df['A'] > 20\n",
    "print(df.where(filter,[10,20,30]))"
   ]
  },
  {
   "cell_type": "code",
   "execution_count": 213,
   "id": "d55d9894-aec7-4bf0-ab12-ed9cfe6aaf6b",
   "metadata": {},
   "outputs": [
    {
     "name": "stdout",
     "output_type": "stream",
     "text": [
      "Task 46:\n",
      "    A   B   C\n",
      "0  10  35  25\n",
      "1  20  35  25\n",
      "2  30  35  25\n",
      "3  40  35  25\n",
      "    A   B   C logic\n",
      "0  10  35  25   low\n",
      "1  20  35  25   low\n",
      "2  30  35  25  High\n",
      "3  40  35  25  High\n"
     ]
    }
   ],
   "source": [
    "print('Task 46:')\n",
    "print(df)  \n",
    "df['logic'] = np.where(df['A'] > 20, 'High', 'low')\n",
    "print(df)"
   ]
  },
  {
   "cell_type": "code",
   "execution_count": 215,
   "id": "67d7c42f-a22e-4486-81f8-79e2b58eda5a",
   "metadata": {},
   "outputs": [
    {
     "name": "stdout",
     "output_type": "stream",
     "text": [
      "Task 47:\n",
      "   Language  Math  Science\n",
      "0        56    80       45\n",
      "1        34    80       90\n",
      "2        78    23       95\n",
      "3         4    60       20\n",
      "   Language  Math  Science language_grade math_grade science_grade\n",
      "0        56    80       45           Pass       Pass          Fail\n",
      "1        34    80       90           Fail       Pass          Pass\n",
      "2        78    23       95           Pass       Fail          Pass\n",
      "3         4    60       20           Fail       Pass          Fail\n"
     ]
    }
   ],
   "source": [
    "print('Task 47:')\n",
    "marks_df = pd.DataFrame({\n",
    "    'Language' : [56, 34, 78, 4], \n",
    "    'Math' : [80, 80, 23, 60],\n",
    "    'Science' : [45, 90, 95, 20]\n",
    "});\n",
    "print(marks_df)\n",
    "marks_df['language_grade'] = np.where(marks_df['Language'] >= 50, 'Pass', 'Fail')\n",
    "marks_df['math_grade'] = np.where(marks_df['Math'] >= 50, 'Pass', 'Fail')\n",
    "marks_df['science_grade'] = np.where(marks_df['Science'] >= 50, 'Pass', 'Fail')\n",
    "print(marks_df)"
   ]
  },
  {
   "cell_type": "code",
   "execution_count": 217,
   "id": "4d4b9313-b9ad-4da7-ad0c-db5cad71acf1",
   "metadata": {},
   "outputs": [
    {
     "name": "stdout",
     "output_type": "stream",
     "text": [
      "Task 48:\n",
      "   Language  Math  Science\n",
      "0        60    90       45\n",
      "1        45    80       90\n",
      "2        78    23       95\n",
      "3         4    60       20\n",
      "   Language  Math  Science\n",
      "0        60    90       45\n",
      "1        45    80       90\n",
      "2        78    23       95\n"
     ]
    }
   ],
   "source": [
    "print('Task 48:')  \n",
    "marks_df = pd.DataFrame({\n",
    "    'Language' : [60, 45, 78, 4], \n",
    "    'Math' : [90, 80, 23, 60],\n",
    "    'Science' : [45, 90, 95, 20]\n",
    "});\n",
    "print(marks_df)\n",
    "marks_df_passed_in_language = marks_df[marks_df.Language >=40 ]\n",
    "print(marks_df_passed_in_language)"
   ]
  },
  {
   "cell_type": "code",
   "execution_count": 218,
   "id": "74c622cd-81c8-49fb-8b8b-d6bb686394cc",
   "metadata": {},
   "outputs": [
    {
     "name": "stdout",
     "output_type": "stream",
     "text": [
      "Task 49:\n",
      "   Language  Math  Science\n",
      "0        60    90       45\n"
     ]
    }
   ],
   "source": [
    "print('Task 49:')  \n",
    "marks_df_passed_in_lang_math = marks_df[(marks_df.Language >=50) & (marks_df.Math >= 50)]\n",
    "print(marks_df_passed_in_lang_math)"
   ]
  },
  {
   "cell_type": "code",
   "execution_count": 219,
   "id": "7d6d430e-26ee-440a-be8e-534a90173075",
   "metadata": {},
   "outputs": [
    {
     "name": "stdout",
     "output_type": "stream",
     "text": [
      "Task 50:\n",
      "   Language  Math  Science\n",
      "2        78    23       95\n"
     ]
    }
   ],
   "source": [
    "print('Task 50:')  \n",
    "marks_df_passed_in_lang_and_sc = marks_df.loc[(marks_df.Language >=50) & (marks_df.Science >= 50)]\n",
    "print(marks_df_passed_in_lang_and_sc)"
   ]
  },
  {
   "cell_type": "code",
   "execution_count": 221,
   "id": "94ff8c2b-713c-4741-ac9b-2d4861879e06",
   "metadata": {},
   "outputs": [
    {
     "name": "stdout",
     "output_type": "stream",
     "text": [
      "Task 51:\n",
      "         age  movies  awards\n",
      "dhanush   31      51      42\n",
      "simbu     23      23      12\n",
      "kamal     65      87       4\n",
      "vikram    50     200      78\n"
     ]
    }
   ],
   "source": [
    "print('Task 51:')\n",
    "stars = {\n",
    "    'age' : [31, 23, 65, 50],\n",
    "    'movies' : [51, 23, 87, 200],\n",
    "    'awards' : [42, 12, 4, 78]\n",
    "    }\n",
    "names = ['dhanush', 'simbu', 'kamal', 'vikram']\n",
    "df = pd.DataFrame(data=stars, index=[names])\n",
    "print(df)"
   ]
  },
  {
   "cell_type": "code",
   "execution_count": 226,
   "id": "83f50e73-5dc5-46e2-afcb-d85e10300fac",
   "metadata": {},
   "outputs": [
    {
     "name": "stdout",
     "output_type": "stream",
     "text": [
      "Task 52:\n",
      "         age  movies  awards\n",
      "dhanush   31      51      42\n",
      "simbu     23      23      12\n",
      "kamal     65      87       4\n"
     ]
    }
   ],
   "source": [
    "print('Task 52:')\n",
    "print(df.iloc[0:3])"
   ]
  },
  {
   "cell_type": "code",
   "execution_count": 228,
   "id": "b7beb4c0-0c61-4950-bb3a-49b467a4f6c0",
   "metadata": {},
   "outputs": [
    {
     "name": "stdout",
     "output_type": "stream",
     "text": [
      "Task 53:\n",
      "    one  two\n",
      "12   31   51\n",
      "14   23   23\n",
      "16   65   87\n",
      "18   50  200\n",
      "label between 12 and 16\n",
      "    one  two\n",
      "12   31   51\n",
      "14   23   23\n",
      "16   65   87\n",
      "index between 1 and 3\n",
      "    one  two\n",
      "14   23   23\n",
      "16   65   87\n"
     ]
    }
   ],
   "source": [
    "print('Task 53:')  \n",
    "numbers = pd.DataFrame({\n",
    "        'one' : [31, 23, 65, 50],\n",
    "        'two' : [51, 23, 87, 200]\n",
    "    },\n",
    "    index = [12, 14, 16, 18])\n",
    "print(numbers)\n",
    "\n",
    "print('label between 12 and 16')\n",
    "print(numbers.loc[12:16])\n",
    "\n",
    "print('index between 1 and 3')\n",
    "print(numbers.iloc[1:3])\n"
   ]
  },
  {
   "cell_type": "code",
   "execution_count": 230,
   "id": "26f990a1-8b41-4640-a0a4-542e9608a630",
   "metadata": {},
   "outputs": [
    {
     "name": "stdout",
     "output_type": "stream",
     "text": [
      "Task 51:\n",
      "         age  movies  awards\n",
      "dhanush   31      51      42\n",
      "kamal     65      87       4\n",
      "vikram    50     200      78\n"
     ]
    }
   ],
   "source": [
    "print('Task 55:')\n",
    "stars = {\n",
    "    'age' : [31, 23, 65, 50],\n",
    "    'movies' : [51, 23, 87, 200],\n",
    "    'awards' : [42, 12, 4, 78]\n",
    "    }\n",
    "names = ['dhanush', 'simbu', 'kamal', 'vikram']\n",
    "df = pd.DataFrame(data=stars, index=[names])\n",
    "print(df[(df.movies>25)&(df.age>25)])"
   ]
  },
  {
   "cell_type": "code",
   "execution_count": 233,
   "id": "9b0a66fc-ec47-4b63-8ac2-b16b0faf9e9d",
   "metadata": {},
   "outputs": [
    {
     "name": "stdout",
     "output_type": "stream",
     "text": [
      "Task 56:\n",
      "         age  movies  awards\n",
      "dhanush   31      51      42\n",
      "kamal     65      87       4\n"
     ]
    }
   ],
   "source": [
    "print('Task 56:')  \n",
    "custom_stars = df[df.age.isin([31, 65])]\n",
    "print(custom_stars)"
   ]
  },
  {
   "cell_type": "code",
   "execution_count": 234,
   "id": "f5b48df1-ed69-4a65-b9e2-b0d0891d36be",
   "metadata": {},
   "outputs": [
    {
     "name": "stdout",
     "output_type": "stream",
     "text": [
      "Task 57:\n",
      "    one  two\n",
      "12   31   51\n",
      "14   23   23\n",
      "16   65   87\n",
      "18   50  200\n",
      "    one  two\n",
      "12   31   51\n",
      "14   23   23\n",
      "16   65   87\n",
      "18   50  200\n"
     ]
    }
   ],
   "source": [
    "print('Task 57:')  \n",
    "print(numbers)\n",
    "print(numbers[~( (numbers.one > 45) & (numbers.two < 50) )])"
   ]
  },
  {
   "cell_type": "code",
   "execution_count": 240,
   "id": "4b78f0eb-ad0f-49ba-ac09-e0b67ded2131",
   "metadata": {},
   "outputs": [
    {
     "name": "stdout",
     "output_type": "stream",
     "text": [
      "Task 58:\n",
      "       size   weight  adult\n",
      "animal                     \n",
      "cat       S  12.4375   True\n",
      "dog       S  20.0000   True\n",
      "fish      S   1.2500   True\n"
     ]
    }
   ],
   "source": [
    "print('Task 58:')\n",
    "def GrowUp(x):\n",
    "    avg_weight =  sum(x[x['size'] =='S'].weight * 1.5)\n",
    "    avg_weight += sum(x[x['size'] == 'M'].weight * 1.25)\n",
    "    avg_weight += sum(x[x['size'] == 'L'].weight)\n",
    "    avg_weight /= len(x)\n",
    "    return pd.Series(['S',avg_weight,True], index=['size', 'weight', 'adult'])\n",
    "\n",
    "animals_df = pd.DataFrame({'animal': 'cat dog cat fish dog cat cat'.split(),\n",
    "                   'size': list('SSMMMLL'),\n",
    "                   'weight': [8, 10, 11, 1, 20, 12, 12],\n",
    "                   'adult' : [False] * 5 + [True] * 2})\n",
    "\n",
    "gb = animals_df.groupby(['animal'])\n",
    "\n",
    "expected_df = gb.apply(GrowUp)\n",
    "print(expected_df)\n"
   ]
  },
  {
   "cell_type": "code",
   "execution_count": 243,
   "id": "8483380d-fe1d-4235-a89f-f2d5268ca4a2",
   "metadata": {},
   "outputs": [
    {
     "name": "stdout",
     "output_type": "stream",
     "text": [
      "Task 59:\n",
      "  animal size  weight  adult\n",
      "5    cat    L      12   True\n",
      "6    cat    L      12   True\n"
     ]
    }
   ],
   "source": [
    "print('Task 59:')\n",
    "weights = animals_df.groupby(['weight']).get_group(12)  \n",
    "print(weights)"
   ]
  },
  {
   "cell_type": "code",
   "execution_count": 253,
   "id": "fea2942d-0112-4302-9140-e327bec92744",
   "metadata": {},
   "outputs": [
    {
     "name": "stdout",
     "output_type": "stream",
     "text": [
      "Task 60:\n",
      "   a  b\n",
      "0  1  2\n",
      "1  1  1\n",
      "2  2  5\n",
      "3  4  4\n",
      "Index(['a', 'b'], dtype='object')\n",
      "   a  b\n",
      "0  1  2\n",
      "1  1  1\n",
      "2  2  5\n",
      "3  4  4\n",
      "   a  b side_a\n",
      "0  1  2  North\n",
      "1  1  1  North\n",
      "2  2  5   East\n",
      "3  4  4   West\n"
     ]
    }
   ],
   "source": [
    "print('Task 60:')\n",
    "sides_df = pd.DataFrame({\n",
    "    'a' : [1, 1, 2, 4],\n",
    "    'b' : [2, 1, 5, 4]\n",
    "    })  \n",
    "print(sides_df)\n",
    "source_cols = sides_df.columns\n",
    "print(source_cols)\n",
    "new_cols = [str(x)+\"_side\" for x in source_cols]\n",
    "side_category = {\n",
    "    1 : 'North',\n",
    "    2 : 'East',\n",
    "    3 : 'South', \n",
    "    4 : 'West'\n",
    "    }\n",
    "# applymap takes  the input of each element and then maps with the corresponding value\n",
    "#sides_df[new_cols] = sides_df[source_cols].applymap(side_category.get)\n",
    "sides_df['side_a'] = sides_df['a'].map(side_category)\n",
    "print(sides_df[source_cols])\n",
    "print(sides_df)"
   ]
  },
  {
   "cell_type": "code",
   "execution_count": 255,
   "id": "02d43ee7-8220-4b2d-8369-4fc3c1af042d",
   "metadata": {},
   "outputs": [
    {
     "name": "stdout",
     "output_type": "stream",
     "text": [
      "Task 61:\n",
      "   A  B\n",
      "0  1  1\n",
      "1  1 -1\n",
      "2  2  1\n",
      "3  2  2\n",
      "0    1.0\n",
      "1    1.0\n",
      "2    2.0\n",
      "3    2.0\n",
      "Name: A, dtype: float64\n",
      "0    1.000000\n",
      "1    1.333333\n",
      "2    1.000000\n",
      "3    2.000000\n",
      "Name: B, dtype: float64\n",
      "     A         B\n",
      "0  1.0  1.000000\n",
      "1  1.0  1.333333\n",
      "2  2.0  1.000000\n",
      "3  2.0  2.000000\n"
     ]
    }
   ],
   "source": [
    "print('Task 61:')  \n",
    "df = pd.DataFrame({'A' : [1, 1, 2, 2], 'B' : [1, -1, 1, 2]})\n",
    "print(df)\n",
    "\n",
    "gb = df.groupby('A')\n",
    "\n",
    "def replace(g):\n",
    "    mask = g < 0\n",
    "    g.loc[mask] = g[~mask].mean()\n",
    "    print(g)\n",
    "    return g\n",
    "\n",
    "gbt = df.transform(replace)\n",
    "\n",
    "print(gbt)"
   ]
  },
  {
   "cell_type": "code",
   "execution_count": 274,
   "id": "b08ec90a-9ea4-4082-b6ee-05a0c54f3b5c",
   "metadata": {},
   "outputs": [
    {
     "name": "stdout",
     "output_type": "stream",
     "text": [
      "Task 62:\n",
      "   Language  Math  Science\n",
      "0        60    90       45\n",
      "1        45    80       90\n",
      "2        78    23       95\n",
      "3         4    60       20\n",
      "   Language  Math  Science\n",
      "0        60    90       45\n",
      "1        45    80       90\n",
      "2        78    23       95\n"
     ]
    }
   ],
   "source": [
    "print('Task 62:') \n",
    "marks_df = pd.DataFrame({\n",
    "    'Language' : [60, 45, 78, 4], \n",
    "    'Math' : [90, 80, 23, 60],\n",
    "    'Science' : [45, 90, 95, 20]\n",
    "});\n",
    "print(marks_df)\n",
    "marks_df_passed_in_lang_or_sc = marks_df.loc[(marks_df.Language >=50) | (marks_df.Science >= 50)]\n",
    "print(marks_df_passed_in_lang_or_sc)"
   ]
  },
  {
   "cell_type": "code",
   "execution_count": 261,
   "id": "d0d99f68-0f8c-4a5d-b101-83f7e5e7008d",
   "metadata": {},
   "outputs": [
    {
     "name": "stdout",
     "output_type": "stream",
     "text": [
      "Task 60:\n",
      "   0  1\n",
      "0  1  2\n",
      "1  1  1\n",
      "2  2  5\n",
      "3  4  4\n"
     ]
    }
   ],
   "source": [
    "print('Task 60:')\n",
    "sides_df = pd.DataFrame({\n",
    "    0 : [1, 1, 2, 4],\n",
    "    1 : [2, 1, 5, 4]\n",
    "    })  \n",
    "print(sides_df)"
   ]
  },
  {
   "cell_type": "code",
   "execution_count": 275,
   "id": "32a5e325-0c1b-47fe-8cfb-496410acd8b1",
   "metadata": {},
   "outputs": [
    {
     "name": "stdout",
     "output_type": "stream",
     "text": [
      "Task 63:\n",
      "   Language  Math  Science pass1sub\n",
      "0        60    90       45     Fail\n",
      "1        45    80       90     Fail\n",
      "2        78    23       95     Fail\n",
      "3         4    60       20     Fail\n",
      "   Language  Math  Science pass1sub\n",
      "0        60    90       45     pass\n",
      "1        45    80       90     pass\n",
      "2        78    23       95     pass\n",
      "3         4    60       20     Fail\n"
     ]
    }
   ],
   "source": [
    "print('Task 63:')  \n",
    "marks_df['pass1sub'] = 'Fail' \n",
    "print(marks_df)\n",
    "marks_df.loc[(marks_df.Language >=45) , 'pass1sub'] = 'pass'\n",
    "print(marks_df)"
   ]
  },
  {
   "cell_type": "code",
   "execution_count": 319,
   "id": "267f79b0-6a0d-441f-a71f-c71527e17259",
   "metadata": {},
   "outputs": [
    {
     "name": "stdout",
     "output_type": "stream",
     "text": [
      "Task 64:\n",
      "    a   b\n",
      "0   0   3\n",
      "1  62  54\n",
      "2  41  65\n",
      "3  77  18\n",
      "4  99  52\n",
      "with argsort\n",
      "    a   b\n",
      "0   0   3\n",
      "2  41  65\n",
      "1  62  54\n",
      "3  77  18\n",
      "4  99  52\n",
      "    a   b\n",
      "0   0   3\n",
      "3  77  18\n",
      "4  99  52\n",
      "1  62  54\n",
      "2  41  65\n"
     ]
    }
   ],
   "source": [
    "print('Task 64:')  \n",
    "df = pd.DataFrame({\n",
    "    \"a\": np.random.randint(0, 100, size=(5,)), \n",
    "    \"b\": np.random.randint(0, 70, size=(5,))\n",
    "})\n",
    "print(df)\n",
    "par = 65\n",
    "print('with argsort')\n",
    "df1 = df.loc[(df.a-2).abs().argsort()]\n",
    "print(df1)\n",
    "print(df.loc[(df.b-2).abs().argsort()])"
   ]
  },
  {
   "cell_type": "code",
   "execution_count": 323,
   "id": "32899131-c04d-4b1b-9e3b-857d406233d4",
   "metadata": {},
   "outputs": [
    {
     "name": "stdout",
     "output_type": "stream",
     "text": [
      "Task 65:\n",
      "   age  movies  agemod\n",
      "1   50       3       0\n",
      "3   45      45       5\n",
      "4   65      34      15\n",
      "2   24      90      26\n",
      "5   18       2      32\n",
      "0   17       2      33\n"
     ]
    }
   ],
   "source": [
    "print('Task 65:')  \n",
    "stars = pd.DataFrame({\n",
    "    \"age\": [17, 50, 24, 45, 65, 18], \n",
    "    \"movies\": [2, 3, 90, 45, 34, 2] \n",
    "})\n",
    "stars['agemod'] = (stars.age-50).abs()\n",
    "print(stars.loc[stars['agemod'].argsort()])"
   ]
  },
  {
   "cell_type": "code",
   "execution_count": 324,
   "id": "f5d89d27-5c20-4e4b-a827-5bd60db023a0",
   "metadata": {},
   "outputs": [
    {
     "name": "stdout",
     "output_type": "stream",
     "text": [
      "Task 66:\n",
      "   age  movies  agemod\n",
      "0   17       2      33\n",
      "5   18       2      32\n",
      "2   24      90      26\n",
      "3   45      45       5\n",
      "1   50       3       0\n",
      "4   65      34      15\n"
     ]
    }
   ],
   "source": [
    "print('Task 66:')  \n",
    "print(stars.loc[(stars.age - 17).abs().argsort()])"
   ]
  },
  {
   "cell_type": "code",
   "execution_count": 326,
   "id": "26e49411-69a8-4b88-b720-936c74242b0c",
   "metadata": {},
   "outputs": [
    {
     "name": "stdout",
     "output_type": "stream",
     "text": [
      "Task 67:\n",
      "   age  movies\n",
      "0   17      22\n",
      "1   50      33\n",
      "2   24      90\n",
      "3   45      75\n",
      "4   65      34\n",
      "5   18       2\n",
      "Young and more movies acted\n",
      "[0     True\n",
      "1    False\n",
      "2     True\n",
      "3    False\n",
      "4    False\n",
      "5     True\n",
      "Name: age, dtype: bool, 0    False\n",
      "1     True\n",
      "2     True\n",
      "3     True\n",
      "4     True\n",
      "5    False\n",
      "Name: movies, dtype: bool]\n",
      "   age  movies\n",
      "2   24      90\n"
     ]
    }
   ],
   "source": [
    "print('Task 67:')\n",
    "stars = pd.DataFrame({\n",
    "    \"age\": [17, 50, 24, 45, 65, 18], \n",
    "    \"movies\": [22, 33, 90, 75, 34, 2] \n",
    "})  \n",
    "print(stars)\n",
    "print('Young and more movies acted')\n",
    "young = stars.age < 30    \n",
    "more_movies = stars.movies > 30\n",
    "young_more = [young, more_movies]\n",
    "print(young_more)\n",
    "young_more_Criteria = functools.reduce(lambda x, y : x & y, young_more)\n",
    "print(stars[young_more_Criteria])"
   ]
  },
  {
   "cell_type": "code",
   "execution_count": 329,
   "id": "f3cb7ebd-61d7-4ef4-a0dd-1bbc4c98b76d",
   "metadata": {},
   "outputs": [
    {
     "name": "stdout",
     "output_type": "stream",
     "text": [
      "Task 68:\n",
      "   age  salary  grade\n",
      "0   17      75      7\n",
      "1   50      33      8\n",
      "2   24      90      9\n",
      "3   45     175      2\n",
      "4   65     134      7\n",
      "5   18      78      8\n",
      "Young, Higher Salary, and Higher Position\n",
      "   age  salary  grade\n",
      "0   17      75      7\n",
      "2   24      90      9\n",
      "5   18      78      8\n"
     ]
    }
   ],
   "source": [
    "print('Task 68:')  \n",
    "employees = pd.DataFrame({\n",
    "    \"age\": [17, 50, 24, 45, 65, 18], \n",
    "    \"salary\": [75, 33, 90, 175, 134, 78],\n",
    "    \"grade\" : [7, 8, 9, 2, 7, 8] \n",
    "})  \n",
    "print(employees)\n",
    "print('Young, Higher Salary, and Higher Position')\n",
    "young = employees.age < 30\n",
    "high_salary = employees.salary > 60\n",
    "high_position = employees.grade > 6\n",
    "young_salary_position = [young, high_salary, high_position]\n",
    "young_salary_position_Criteria = functools.reduce(lambda x, y  :x & y, young_salary_position)\n",
    "print(employees[young_salary_position_Criteria])"
   ]
  },
  {
   "cell_type": "code",
   "execution_count": 3,
   "id": "39e442ba-8207-4530-b6c2-4bc3afca1122",
   "metadata": {},
   "outputs": [
    {
     "name": "stdout",
     "output_type": "stream",
     "text": [
      "Task 69:\n",
      "   age  salary  grade\n",
      "0   17      75      7\n",
      "1   50      33      8\n",
      "2   24      90      9\n",
      "3   45     175      2\n",
      "4   65     134      7\n",
      "5   18      78      8\n",
      "   Age  Salary  grade\n",
      "0   17      75      7\n",
      "1   50      33      8\n",
      "2   24      90      9\n",
      "3   45     175      2\n",
      "4   65     134      7\n",
      "5   18      78      8\n"
     ]
    }
   ],
   "source": [
    "print('Task 69:')  \n",
    "import pandas as pd\n",
    "employees = pd.DataFrame({\n",
    "    \"age\": [17, 50, 24, 45, 65, 18], \n",
    "    \"salary\": [75, 33, 90, 175, 134, 78],\n",
    "    \"grade\" : [7, 8, 9, 2, 7, 8] \n",
    "})  \n",
    "print(employees)\n",
    "employees.rename(columns={'age': 'Age', 'salary': 'Salary'}, inplace=True)\n",
    "print(employees)"
   ]
  },
  {
   "cell_type": "code",
   "execution_count": 9,
   "id": "a3210c38-298c-4523-95ff-529f74bd0c54",
   "metadata": {},
   "outputs": [
    {
     "name": "stdout",
     "output_type": "stream",
     "text": [
      "Task 70:\n",
      "   age  salary  grade\n",
      "0   17      75      7\n",
      "1   50      33      8\n",
      "2   24      90      9\n",
      "3   45     175      2\n",
      "4   65     134      7\n",
      "5   18      78      8\n",
      "   age  salary  grade  group\n",
      "0   17      75      7      8\n",
      "1   50      33      8      7\n",
      "2   24      90      9      1\n",
      "3   45     175      2      4\n",
      "4   65     134      7      3\n",
      "5   18      78      8      9\n"
     ]
    }
   ],
   "source": [
    "print('Task 70:')  \n",
    "employees = pd.DataFrame({\n",
    "    \"age\": [17, 50, 24, 45, 65, 18], \n",
    "    \"salary\": [75, 33, 90, 175, 134, 78],\n",
    "    \"grade\" : [7, 8, 9, 2, 7, 8] \n",
    "})  \n",
    "print(employees)\n",
    "employees['group'] = pd.Series(np.random.randint(1,10,size=len(employees)))\n",
    "print(employees)"
   ]
  },
  {
   "cell_type": "code",
   "execution_count": 10,
   "id": "75dc869d-6b4b-44e8-a367-1a41ee88dcaa",
   "metadata": {},
   "outputs": [
    {
     "name": "stdout",
     "output_type": "stream",
     "text": [
      "Task 71:\n",
      "   salary  grade  group\n",
      "0      75      7      8\n",
      "1      33      8      7\n",
      "2      90      9      1\n",
      "3     175      2      4\n",
      "4     134      7      3\n",
      "5      78      8      9\n"
     ]
    }
   ],
   "source": [
    "print('Task 71:')\n",
    "employees.drop(employees.columns[[0]],axis =1 ,inplace =True)\n",
    "print(employees)"
   ]
  },
  {
   "cell_type": "code",
   "execution_count": 11,
   "id": "63517b77-1a09-4ec2-bddf-da2842c4d1db",
   "metadata": {},
   "outputs": [
    {
     "name": "stdout",
     "output_type": "stream",
     "text": [
      "Task 70:\n",
      "   age  salary  grade\n",
      "0   17      75      7\n",
      "1   50      33      8\n",
      "2   24      90      9\n",
      "3   45     175      2\n",
      "4   65     134      7\n",
      "5   18      78      8\n",
      "   grade\n",
      "0      7\n",
      "1      8\n",
      "2      9\n",
      "3      2\n",
      "4      7\n",
      "5      8\n"
     ]
    }
   ],
   "source": [
    "print('Task 72:')  \n",
    "employees = pd.DataFrame({\n",
    "    \"age\": [17, 50, 24, 45, 65, 18], \n",
    "    \"salary\": [75, 33, 90, 175, 134, 78],\n",
    "    \"grade\" : [7, 8, 9, 2, 7, 8] \n",
    "})  \n",
    "print(employees)\n",
    "employees.drop(employees.columns[[0,1]],axis =1 ,inplace =True)\n",
    "print(employees)"
   ]
  },
  {
   "cell_type": "code",
   "execution_count": 15,
   "id": "c1a08728-0498-4c8d-86e0-9cb0aa1a28a7",
   "metadata": {},
   "outputs": [
    {
     "name": "stdout",
     "output_type": "stream",
     "text": [
      "Task 73:\n",
      "   age  salary  grade\n",
      "0   17      75      7\n",
      "1   50      33      8\n",
      "2   24      90      9\n",
      "3   45     175      2\n",
      "4   65     134      7\n",
      "5   18      78      8\n",
      "   age  salary  grade  group\n",
      "0   17      75      7      9\n",
      "1   50      33      8      5\n",
      "2   24      90      9      5\n",
      "3   45     175      2      8\n",
      "4   65     134      7      4\n",
      "5   18      78      8      6\n",
      "   salary  grade\n",
      "0      75      7\n",
      "1      33      8\n",
      "2      90      9\n",
      "3     175      2\n",
      "4     134      7\n",
      "5      78      8\n"
     ]
    }
   ],
   "source": [
    "print('Task 73:')  \n",
    "employees = pd.DataFrame({\n",
    "    \"age\": [17, 50, 24, 45, 65, 18], \n",
    "    \"salary\": [75, 33, 90, 175, 134, 78],\n",
    "    \"grade\" : [7, 8, 9, 2, 7, 8] \n",
    "})  \n",
    "print(employees)\n",
    "employees['group'] = pd.Series(np.random.randint(1,10,size=len(employees)))\n",
    "print(employees)\n",
    "employees.drop(employees.columns[[0,len(employees.columns)-1]],axis=1,inplace =True)\n",
    "print(employees)"
   ]
  },
  {
   "cell_type": "code",
   "execution_count": 19,
   "id": "ab42e031-0ce5-46f5-8006-cf3b5b48a93f",
   "metadata": {},
   "outputs": [
    {
     "name": "stdout",
     "output_type": "stream",
     "text": [
      "Task 74:\n",
      "   age  salary  grade  group\n",
      "0   17      75      7      1\n",
      "1   50      33      8      1\n",
      "2   24      90      9      2\n",
      "3   45     175      2      2\n",
      "4   65     134      7      2\n",
      "5   18      78      8      1\n",
      "   salary  grade  group\n",
      "0      75      7      1\n",
      "1      33      8      1\n",
      "2      90      9      2\n",
      "3     175      2      2\n",
      "4     134      7      2\n",
      "5      78      8      1\n",
      "0    17\n",
      "1    50\n",
      "2    24\n",
      "3    45\n",
      "4    65\n",
      "5    18\n",
      "Name: age, dtype: int64\n"
     ]
    }
   ],
   "source": [
    "print('Task 74:')  \n",
    "employees = pd.DataFrame({\n",
    "    \"age\": [17, 50, 24, 45, 65, 18], \n",
    "    \"salary\": [75, 33, 90, 175, 134, 78],\n",
    "    \"grade\" : [7, 8, 9, 2, 7, 8],\n",
    "    \"group\" : [1, 1, 2, 2, 2, 1] \n",
    "    \n",
    "})  \n",
    "print(employees)\n",
    "group = employees.pop(employees.columns[0])\n",
    "print(employees)\n",
    "print(group)"
   ]
  },
  {
   "cell_type": "code",
   "execution_count": 27,
   "id": "827a2ada-2281-4f09-a971-4a68c3239317",
   "metadata": {},
   "outputs": [
    {
     "name": "stdout",
     "output_type": "stream",
     "text": [
      "Task 76,77,78:\n",
      "   age  salary  grade  group\n",
      "0   17      75      7      1\n",
      "1   50      33      8      1\n",
      "2   24      90      9      2\n",
      "3   45     175      2      2\n",
      "4   65     134      7      2\n",
      "5   18      78      8      1\n",
      "Index(['age', 'salary', 'grade', 'group'], dtype='object')\n",
      "[[ 17  75   7   1]\n",
      " [ 50  33   8   1]\n",
      " [ 24  90   9   2]\n",
      " [ 45 175   2   2]\n",
      " [ 65 134   7   2]\n",
      " [ 18  78   8   1]]\n",
      "[[17, 75, 7, 1], [50, 33, 8, 1], [24, 90, 9, 2], [45, 175, 2, 2], [65, 134, 7, 2], [18, 78, 8, 1]]\n",
      "(6, 4)\n"
     ]
    }
   ],
   "source": [
    "print('Task 76,77,78:')\n",
    "employees = pd.DataFrame({\n",
    "    \"age\": [17, 50, 24, 45, 65, 18], \n",
    "    \"salary\": [75, 33, 90, 175, 134, 78],\n",
    "    \"grade\" : [7, 8, 9, 2, 7, 8],\n",
    "    \"group\" : [1, 1, 2, 2, 2, 1] \n",
    "    \n",
    "})  \n",
    "print(employees) \n",
    "list1 = (employees.columns)\n",
    "print(list1)\n",
    "#array\n",
    "list2=employees.values\n",
    "print(list2)\n",
    "#list\n",
    "list3=employees.values.tolist()\n",
    "print(list3)\n",
    "print(list2.shape)"
   ]
  },
  {
   "cell_type": "code",
   "execution_count": 30,
   "id": "c82a7eb8-adef-4b90-a07a-53e31f77fc38",
   "metadata": {},
   "outputs": [
    {
     "name": "stdout",
     "output_type": "stream",
     "text": [
      "Task 76,77,78:\n",
      "   age  salary  grade  group\n",
      "4   65     134      7      2\n",
      "5   18      78      8      1\n"
     ]
    }
   ],
   "source": [
    "print('Task 81')\n",
    "employees = pd.DataFrame({\n",
    "    \"age\": [17, 50, 24, 45, 65, 18], \n",
    "    \"salary\": [75, 33, 90, 175, 134, 78],\n",
    "    \"grade\" : [7, 8, 9, 2, 7, 8],\n",
    "    \"group\" : [1, 1, 2, 2, 2, 1] \n",
    "    \n",
    "})  \n",
    "employees.drop_duplicates('group',inplace = True ,keep = 'last')\n",
    "print(employees)"
   ]
  },
  {
   "cell_type": "code",
   "execution_count": 33,
   "id": "05ca6971-a986-4da5-9fef-f08e8c87acbc",
   "metadata": {},
   "outputs": [
    {
     "name": "stdout",
     "output_type": "stream",
     "text": [
      "Task 82:\n",
      "   id      city  count\n",
      "0   1   Toronto      7\n",
      "1   1  Montreal      8\n",
      "2   2   Calgary      9\n",
      "3   2  Montreal      2\n",
      "4   3  Montreal      7\n",
      "5   3    Ottawa      8\n",
      "   id      city\n",
      "0   1   Toronto\n",
      "1   1  Montreal\n",
      "2   2   Calgary\n",
      "3   2  Montreal\n",
      "4   3  Montreal\n",
      "5   3    Ottawa\n",
      "   id  count\n",
      "0   1      7\n",
      "1   1      8\n",
      "2   2      9\n",
      "3   2      2\n",
      "4   3      7\n",
      "5   3      8\n"
     ]
    }
   ],
   "source": [
    "print('Task 82:')  \n",
    "users = pd.DataFrame({\n",
    "    \"id\": [1, 1, 2, 2, 3, 3], \n",
    "    \"city\": ['Toronto', 'Montreal', 'Calgary', 'Montreal', 'Montreal', 'Ottawa'],\n",
    "    \"count\" : [7, 8, 9, 2, 7, 8] \n",
    "    \n",
    "}) \n",
    "print(users)\n",
    "users1 = users[['id', 'city']]\n",
    "print(users1)\n",
    "columns = ['id','count']\n",
    "users1 = pd.DataFrame(users,columns=columns)\n",
    "print(users1)"
   ]
  },
  {
   "cell_type": "code",
   "execution_count": 38,
   "id": "da087360-b311-4604-b41b-9a1ff777331e",
   "metadata": {},
   "outputs": [
    {
     "name": "stdout",
     "output_type": "stream",
     "text": [
      "Task 81\n",
      "   salary  grade\n",
      "0      75      7\n",
      "1      33      8\n"
     ]
    }
   ],
   "source": [
    "print('Task 84')\n",
    "employees = pd.DataFrame({\n",
    "    \"age\": [17, 50, 24, 45, 65, 18], \n",
    "    \"salary\": [75, 33, 90, 175, 134, 78],\n",
    "    \"grade\" : [7, 8, 9, 2, 7, 8],\n",
    "    \"group\" : [1, 1, 2, 2, 2, 1] \n",
    "    \n",
    "})  \n",
    "emp =employees.iloc[0:2,1:3]\n",
    "              \n",
    "print(emp)"
   ]
  },
  {
   "cell_type": "code",
   "execution_count": 41,
   "id": "fba0080b-79c9-4c60-89da-dfef93cf30c5",
   "metadata": {},
   "outputs": [
    {
     "name": "stdout",
     "output_type": "stream",
     "text": [
      "Task 85:\n",
      "   id      city  count\n",
      "0   1   Toronto      7\n",
      "1   1  Montreal      8\n",
      "2   2   Calgary      9\n",
      "3   2  Montreal      2\n",
      "4   3  Montreal      7\n",
      "5   3    Ottawa      8\n",
      "id             1\n",
      "city     Toronto\n",
      "count          7\n",
      "Name: 0, dtype: object\n",
      "id              1\n",
      "city     Montreal\n",
      "count           8\n",
      "Name: 1, dtype: object\n",
      "id             2\n",
      "city     Calgary\n",
      "count          9\n",
      "Name: 2, dtype: object\n",
      "id              2\n",
      "city     Montreal\n",
      "count           2\n",
      "Name: 3, dtype: object\n",
      "id              3\n",
      "city     Montreal\n",
      "count           7\n",
      "Name: 4, dtype: object\n",
      "id            3\n",
      "city     Ottawa\n",
      "count         8\n",
      "Name: 5, dtype: object\n"
     ]
    }
   ],
   "source": [
    "print('Task 85:')  \n",
    "users = pd.DataFrame({\n",
    "    \"id\": [1, 1, 2, 2, 3, 3], \n",
    "    \"city\": ['Toronto', 'Montreal', 'Calgary', 'Montreal', 'Montreal', 'Ottawa'],\n",
    "    \"count\" : [7, 8, 9, 2, 7, 8] \n",
    "    \n",
    "}) \n",
    "print(users)    \n",
    "for index, row in users.iterrows():\n",
    "    #print(row['city'], \"==>\", row['count'])\n",
    "    print(row)"
   ]
  },
  {
   "cell_type": "code",
   "execution_count": 50,
   "id": "97250dfa-bf5f-4308-afed-83f80d11f33c",
   "metadata": {},
   "outputs": [
    {
     "name": "stdout",
     "output_type": "stream",
     "text": [
      "Task 86:\n",
      "   id      city  count\n",
      "0   1   Toronto      7\n",
      "1   1  Montreal      8\n",
      "2   2   Calgary      9\n",
      "3   2  Montreal      2\n",
      "4   3  Montreal      7\n",
      "5   3    Ottawa      8\n",
      "Toronto\n",
      "Montreal\n",
      "Calgary\n",
      "Montreal\n",
      "Montreal\n",
      "Ottawa\n",
      "7\n",
      "8\n",
      "9\n",
      "2\n",
      "7\n",
      "8\n",
      "Pandas(Index=0, id=1, city='Toronto', count=7)\n",
      "Pandas(Index=1, id=1, city='Montreal', count=8)\n",
      "Pandas(Index=2, id=2, city='Calgary', count=9)\n",
      "Pandas(Index=3, id=2, city='Montreal', count=2)\n",
      "Pandas(Index=4, id=3, city='Montreal', count=7)\n",
      "Pandas(Index=5, id=3, city='Ottawa', count=8)\n"
     ]
    }
   ],
   "source": [
    "print('Task 86:')  \n",
    "users = pd.DataFrame({\n",
    "    \"id\": [1, 1, 2, 2, 3, 3], \n",
    "    \"city\": ['Toronto', 'Montreal', 'Calgary', 'Montreal', 'Montreal', 'Ottawa'],\n",
    "    \"count\" : [7, 8, 9, 2, 7, 8] \n",
    "    \n",
    "}) \n",
    "print(users)    \n",
    "for row in users.itertuples(index=True, name='Pandas'):\n",
    "    print(getattr(row, 'city'))\n",
    "    \n",
    "for row in users.itertuples(index=True, name='Pandas'):\n",
    "    print(row.count)\n",
    "    \n",
    "for row in users.itertuples(index=True, name='Pandas'):\n",
    "    print(row)    "
   ]
  },
  {
   "cell_type": "code",
   "execution_count": 53,
   "id": "3c701012-4f88-41ce-8ffb-b8c0f078d6c0",
   "metadata": {},
   "outputs": [
    {
     "name": "stdout",
     "output_type": "stream",
     "text": [
      "Task 87:\n",
      "   id      city  count\n",
      "0   1   Toronto      7\n",
      "1   1  Montreal      8\n",
      "2   2   Calgary      9\n",
      "3   2  Montreal      2\n",
      "4   3  Montreal      7\n",
      "5   3    Ottawa      8\n",
      "id             1\n",
      "city     Toronto\n",
      "count          7\n",
      "Name: 0, dtype: object\n",
      "1\n",
      "Toronto\n",
      "7\n",
      "id              1\n",
      "city     Montreal\n",
      "count           8\n",
      "Name: 1, dtype: object\n",
      "1\n",
      "Montreal\n",
      "8\n",
      "id             2\n",
      "city     Calgary\n",
      "count          9\n",
      "Name: 2, dtype: object\n",
      "2\n",
      "Calgary\n",
      "9\n",
      "id              2\n",
      "city     Montreal\n",
      "count           2\n",
      "Name: 3, dtype: object\n",
      "2\n",
      "Montreal\n",
      "2\n",
      "id              3\n",
      "city     Montreal\n",
      "count           7\n",
      "Name: 4, dtype: object\n",
      "3\n",
      "Montreal\n",
      "7\n",
      "id            3\n",
      "city     Ottawa\n",
      "count         8\n",
      "Name: 5, dtype: object\n",
      "3\n",
      "Ottawa\n",
      "8\n"
     ]
    }
   ],
   "source": [
    "print('Task 87:')  \n",
    "users = pd.DataFrame({\n",
    "    \"id\": [1, 1, 2, 2, 3, 3], \n",
    "    \"city\": ['Toronto', 'Montreal', 'Calgary', 'Montreal', 'Montreal', 'Ottawa'],\n",
    "    \"count\" : [7, 8, 9, 2, 7, 8] \n",
    "    \n",
    "}) \n",
    "print(users)    \n",
    "for i, row in users.iterrows():\n",
    "    print(row)\n",
    "    for j, col in row.items():    \n",
    "        print(col)"
   ]
  }
 ],
 "metadata": {
  "kernelspec": {
   "display_name": "Python 3 (ipykernel)",
   "language": "python",
   "name": "python3"
  },
  "language_info": {
   "codemirror_mode": {
    "name": "ipython",
    "version": 3
   },
   "file_extension": ".py",
   "mimetype": "text/x-python",
   "name": "python",
   "nbconvert_exporter": "python",
   "pygments_lexer": "ipython3",
   "version": "3.8.15"
  }
 },
 "nbformat": 4,
 "nbformat_minor": 5
}
