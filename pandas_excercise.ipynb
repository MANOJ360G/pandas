{
 "cells": [
  {
   "cell_type": "code",
   "execution_count": 6,
   "id": "04969bdd-7378-45c7-b89f-8b364dfe18d7",
   "metadata": {},
   "outputs": [],
   "source": [
    "import numpy as np\n",
    "import numpy\n",
    "import pandas as pd\n",
    "import pandas"
   ]
  },
  {
   "cell_type": "markdown",
   "id": "44380e73-1abd-413a-99f7-5e1fcdab243d",
   "metadata": {},
   "source": []
  },
  {
   "cell_type": "code",
   "execution_count": 3,
   "id": "c96273f6-ece5-4084-bbeb-a84ca00ae58d",
   "metadata": {},
   "outputs": [
    {
     "name": "stdout",
     "output_type": "stream",
     "text": [
      "Task 1:\n",
      "1.5.2\n"
     ]
    }
   ],
   "source": [
    "print('Task 1:')  \n",
    "print(pd.__version__)"
   ]
  },
  {
   "cell_type": "code",
   "execution_count": 10,
   "id": "0df6ed8b-c843-4cfe-9ad3-a29188b6253d",
   "metadata": {},
   "outputs": [
    {
     "name": "stdout",
     "output_type": "stream",
     "text": [
      "Task 2:\n",
      "[(0, 0., 0.) (0, 0., 0.) (0, 0., 0.) (0, 0., 0.) (0, 0., 0.) (0, 0., 0.)\n",
      " (0, 0., 0.) (0, 0., 0.) (0, 0., 0.) (0, 0., 0.) (0, 0., 0.) (0, 0., 0.)\n",
      " (0, 0., 0.) (0, 0., 0.) (0, 0., 0.) (0, 0., 0.) (0, 0., 0.) (0, 0., 0.)\n",
      " (0, 0., 0.) (0, 0., 0.)]\n",
      "['Row_1', 'Row_2', 'Row_3', 'Row_4', 'Row_5', 'Row_6', 'Row_7', 'Row_8', 'Row_9', 'Row_10', 'Row_11', 'Row_12', 'Row_13', 'Row_14', 'Row_15', 'Row_16', 'Row_17', 'Row_18', 'Row_19', 'Row_20']\n",
      "        col1  col2  col3\n",
      "Row_1      0   0.0   0.0\n",
      "Row_2      0   0.0   0.0\n",
      "Row_3      0   0.0   0.0\n",
      "Row_4      0   0.0   0.0\n",
      "Row_5      0   0.0   0.0\n",
      "Row_6      0   0.0   0.0\n",
      "Row_7      0   0.0   0.0\n",
      "Row_8      0   0.0   0.0\n",
      "Row_9      0   0.0   0.0\n",
      "Row_10     0   0.0   0.0\n",
      "Row_11     0   0.0   0.0\n",
      "Row_12     0   0.0   0.0\n",
      "Row_13     0   0.0   0.0\n",
      "Row_14     0   0.0   0.0\n",
      "Row_15     0   0.0   0.0\n",
      "Row_16     0   0.0   0.0\n",
      "Row_17     0   0.0   0.0\n",
      "Row_18     0   0.0   0.0\n",
      "Row_19     0   0.0   0.0\n",
      "Row_20     0   0.0   0.0\n",
      "    col1  col2  col3\n",
      "0      0   0.0   0.0\n",
      "1      0   0.0   0.0\n",
      "2      0   0.0   0.0\n",
      "3      0   0.0   0.0\n",
      "4      0   0.0   0.0\n",
      "5      0   0.0   0.0\n",
      "6      0   0.0   0.0\n",
      "7      0   0.0   0.0\n",
      "8      0   0.0   0.0\n",
      "9      0   0.0   0.0\n",
      "10     0   0.0   0.0\n",
      "11     0   0.0   0.0\n",
      "12     0   0.0   0.0\n",
      "13     0   0.0   0.0\n",
      "14     0   0.0   0.0\n",
      "15     0   0.0   0.0\n",
      "16     0   0.0   0.0\n",
      "17     0   0.0   0.0\n",
      "18     0   0.0   0.0\n",
      "19     0   0.0   0.0\n"
     ]
    }
   ],
   "source": [
    "print('Task 2:')\n",
    "dtype = [('col1','int32'), ('col2','float32'), ('col3','float32')]\n",
    "#dtype shows the desired array type\n",
    "values = numpy.zeros(20, dtype=dtype)\n",
    "print(values)\n",
    "index = ['Row_'+str(i) for i in range(1, len(values)+1)]\n",
    "print(index)\n",
    "\n",
    "df = pandas.DataFrame(values, index=index)\n",
    "print(df)\n",
    "\n",
    "df = pandas.DataFrame(values)\n",
    "print(df)"
   ]
  },
  {
   "cell_type": "code",
   "execution_count": 12,
   "id": "a8eb2936-1ac8-4075-865d-a5c989ea1ce8",
   "metadata": {},
   "outputs": [
    {
     "name": "stdout",
     "output_type": "stream",
     "text": [
      "Task 3:\n",
      "  0  1      2    3     4     5      6    7     8   9     10    11    12\n",
      "0  X  Y  month  day  FFMC   DMC     DC  ISI  temp  RH  wind  rain  area\n",
      "1  7  5    mar  fri  86.2  26.2   94.3  5.1   8.2  51   6.7     0     0\n",
      "2  7  4    oct  tue  90.6  35.4  669.1  6.7    18  33   0.9     0     0\n",
      "3  7  4    oct  sat  90.6  43.7  686.9  6.7  14.6  33   1.3     0     0\n"
     ]
    }
   ],
   "source": [
    "print('Task 3:')\n",
    "df = pandas.read_csv('forestfires.csv', sep=',', header=None)\n",
    "print(df.iloc[:4]) "
   ]
  },
  {
   "cell_type": "code",
   "execution_count": 21,
   "id": "32519ddd-7cd6-4dde-90b6-72995999f6f3",
   "metadata": {},
   "outputs": [
    {
     "name": "stdout",
     "output_type": "stream",
     "text": [
      "Task 4:\n",
      "[186 208 168 152 157 185]\n"
     ]
    }
   ],
   "source": [
    "print('Task 4:')\n",
    "values = np.random.randint(150, 210, size=6)\n",
    "print(values)"
   ]
  },
  {
   "cell_type": "code",
   "execution_count": 27,
   "id": "28848610-5d19-4783-92b5-de8082c86f57",
   "metadata": {},
   "outputs": [
    {
     "name": "stdout",
     "output_type": "stream",
     "text": [
      "task 5:\n",
      "    A   B\n",
      "0  16  19\n",
      "1  10  26\n",
      "2  14  21\n",
      "3  14  27\n"
     ]
    }
   ],
   "source": [
    "print('task 5:')\n",
    "values = np.random.randint(10, 30,size = (4,2))\n",
    "dataframe = pd.DataFrame(values,columns=list('AB'))\n",
    "print(dataframe)"
   ]
  },
  {
   "cell_type": "code",
   "execution_count": 32,
   "id": "4569836e-560e-4a64-bcb6-76e315d929ea",
   "metadata": {},
   "outputs": [
    {
     "name": "stdout",
     "output_type": "stream",
     "text": [
      "Task 6:\n",
      "     A    B    C    D\n",
      "0  120  329  315  142\n",
      "1  121  329  212  183\n",
      "2  186  248  283  339\n",
      "3  191  309  122  324\n",
      "4  168  206  338  265\n"
     ]
    }
   ],
   "source": [
    "print('Task 6:')\n",
    "values =np.random.randint(120, 340, size=(5, 4))\n",
    "dataframe = pd.DataFrame(values, columns=['A', 'B', 'C', 'D'])\n",
    "print(dataframe)"
   ]
  },
  {
   "cell_type": "code",
   "execution_count": 34,
   "id": "01dda5c2-1dd8-4517-9e6a-6d229ee0709e",
   "metadata": {},
   "outputs": [
    {
     "name": "stdout",
     "output_type": "stream",
     "text": [
      "task 7\n",
      "[[ 5 78 20 99 22]\n",
      " [38 53 77 87 56]\n",
      " [11 90 23 17 87]\n",
      " [25 64 16 87 57]]\n"
     ]
    }
   ],
   "source": [
    "print(\"task 7\")\n",
    "values = np.random.randint(1,100,size =(4,5))\n",
    "print(values)"
   ]
  },
  {
   "cell_type": "code",
   "execution_count": 38,
   "id": "5d70e73c-4a11-4e3d-9cbe-b0b95aa7e6cb",
   "metadata": {},
   "outputs": [
    {
     "name": "stdout",
     "output_type": "stream",
     "text": [
      "task 8\n",
      "    A   B   C   D   E\n",
      "0  58  55  86  76  80\n",
      "1  95  55  34  52  19\n"
     ]
    }
   ],
   "source": [
    "print (\"task 8\")\n",
    "values = np.random.randint(100,size = (2,5))\n",
    "df = pd.DataFrame(values ,columns =list('ABCDE'))\n",
    "print(df)"
   ]
  },
  {
   "cell_type": "code",
   "execution_count": 43,
   "id": "db81a59a-a9a8-41e0-afa6-4539edbff45e",
   "metadata": {},
   "outputs": [
    {
     "name": "stdout",
     "output_type": "stream",
     "text": [
      "task 9\n",
      "     x    y\n",
      "0  0.0  0.0\n",
      "1  0.0  0.0\n",
      "2  0.0  0.0\n"
     ]
    }
   ],
   "source": [
    "print(\"task 9\"),\n",
    "values = np.zeros((3,2))\n",
    "df = pd.DataFrame(values ,columns = list('xy'))\n",
    "print(df)"
   ]
  },
  {
   "cell_type": "code",
   "execution_count": 53,
   "id": "93eefc1a-fd30-4a6e-83b6-9a558ca0f3d6",
   "metadata": {},
   "outputs": [
    {
     "name": "stdout",
     "output_type": "stream",
     "text": [
      "task 10\n",
      "['math', 'science']\n",
      "   math  science\n",
      "0    99       54\n",
      "1    94       57\n",
      "2    69       55\n",
      "3    87       76\n",
      "4    96       88\n",
      "5    55       50\n",
      "6    88       67\n",
      "7    79       84\n",
      "8    93       74\n",
      "9    50       92\n"
     ]
    }
   ],
   "source": [
    "print(\"task 10\")\n",
    "dtype = [('math','int32'),('science','int32')]\n",
    "values = np.random.randint(50,100,size =(10,2))\n",
    "index = [dtype[i][0] for i  in range(len(dtype))]\n",
    "print(index)\n",
    "df =pd.DataFrame(values,columns = index)\n",
    "print(df)"
   ]
  },
  {
   "cell_type": "code",
   "execution_count": 54,
   "id": "c3d242d6-b4f9-4db2-8d3b-0b4f93a3c344",
   "metadata": {},
   "outputs": [
    {
     "name": "stdout",
     "output_type": "stream",
     "text": [
      "Task 11:\n",
      "  0  1      2    3     4     5      6    7     8   9     10    11    12\n",
      "0  X  Y  month  day  FFMC   DMC     DC  ISI  temp  RH  wind  rain  area\n",
      "1  7  5    mar  fri  86.2  26.2   94.3  5.1   8.2  51   6.7     0     0\n",
      "2  7  4    oct  tue  90.6  35.4  669.1  6.7    18  33   0.9     0     0\n",
      "3  7  4    oct  sat  90.6  43.7  686.9  6.7  14.6  33   1.3     0     0\n",
      "4  8  6    mar  fri  91.7  33.3   77.5    9   8.3  97     4   0.2     0\n"
     ]
    }
   ],
   "source": [
    "print('Task 11:')\n",
    "df = pandas.read_csv('forestfires.csv', sep=',', header=None)\n",
    "print(df.head())"
   ]
  },
  {
   "cell_type": "code",
   "execution_count": 57,
   "id": "c12c142f-0c6a-415b-aaa5-71047a1b4110",
   "metadata": {},
   "outputs": [
    {
     "name": "stdout",
     "output_type": "stream",
     "text": [
      "Task 13:\n",
      "   0  1      2    3     4\n",
      "0  X  Y  month  day  FFMC\n",
      "1  7  5    mar  fri  86.2\n",
      "2  7  4    oct  tue  90.6\n",
      "3  7  4    oct  sat  90.6\n"
     ]
    }
   ],
   "source": [
    "print('Task 13:') \n",
    "df = pandas.read_csv('forestfires.csv', sep=',', header=None)\n",
    "\n",
    "print(df.iloc[0:4,0:5])\n"
   ]
  },
  {
   "cell_type": "code",
   "execution_count": 60,
   "id": "383573fe-1381-4807-8fb5-76f9bf61d3b9",
   "metadata": {},
   "outputs": [
    {
     "name": "stdout",
     "output_type": "stream",
     "text": [
      "Task 14:\n",
      "     0  1      2    3     4\n",
      "0    X  Y  month  day  FFMC\n",
      "2    7  4    oct  tue  90.6\n",
      "4    8  6    mar  fri  91.7\n",
      "6    8  6    aug  sun  92.3\n",
      "8    8  6    aug  mon  91.5\n",
      "..  .. ..    ...  ...   ...\n",
      "508  2  4    aug  fri    91\n",
      "510  5  4    aug  fri    91\n",
      "512  8  6    aug  sun  81.6\n",
      "514  2  4    aug  sun  81.6\n",
      "516  1  4    aug  sat  94.4\n",
      "\n",
      "[259 rows x 5 columns]\n"
     ]
    }
   ],
   "source": [
    "print('Task 14:') \n",
    "df = pandas.read_csv('forestfires.csv', sep=',', header=None)\n",
    "\n",
    "print(df.iloc[0::2,0:5])"
   ]
  },
  {
   "cell_type": "code",
   "execution_count": 74,
   "id": "2a2027dc-21fe-4816-854e-a1a267826085",
   "metadata": {},
   "outputs": [
    {
     "name": "stdout",
     "output_type": "stream",
     "text": [
      "Task 14:\n",
      "  student  language  science  maths  history\n",
      "0   kumar        90       56     34       34\n",
      "1   kevin        10       34     32       67\n",
      "2   sammy        90       23     12       32\n",
      "3  janice        20       67     90       45\n",
      "4   peter        30       56     45       65\n",
      "5    prem        90       45     45       34\n",
      "6  carrol        50       90     45       23\n",
      "   language  science  maths  history\n",
      "0        90       56     34       34\n",
      "1        10       34     32       67\n",
      "2        90       23     12       32\n",
      "3        20       67     90       45\n",
      "4        30       56     45       65\n",
      "5        90       45     45       34\n",
      "6        50       90     45       23\n",
      "  student  language  science  maths  history  total\n",
      "0   kumar        90       56     34       34    214\n",
      "1   kevin        10       34     32       67    143\n",
      "2   sammy        90       23     12       32    157\n",
      "3  janice        20       67     90       45    222\n",
      "4   peter        30       56     45       65    196\n",
      "5    prem        90       45     45       34    214\n",
      "6  carrol        50       90     45       23    208\n"
     ]
    }
   ],
   "source": [
    "print('Task 15:') \n",
    "df = pandas.read_csv('abc.csv', sep=',')\n",
    "print(df)\n",
    "df1 = df.drop(['student'],axis=1)\n",
    "print(df1)\n",
    "df['total'] = df1.sum(axis=1)\n",
    "print(df)"
   ]
  },
  {
   "cell_type": "code",
   "execution_count": 76,
   "id": "c1b8cb17-f8c1-4f50-b984-8e6e68325f80",
   "metadata": {},
   "outputs": [
    {
     "name": "stdout",
     "output_type": "stream",
     "text": [
      "Task 14:\n",
      "  student  language  science  maths  history\n",
      "0   kumar        90       56     34       34\n",
      "1   kevin        10       34     32       67\n",
      "2   sammy        90       23     12       32\n",
      "3  janice        20       67     90       45\n",
      "4   peter        30       56     45       65\n",
      "5    prem        90       45     45       34\n",
      "6  carrol        50       90     45       23\n",
      "  student  language  science  maths  history\n",
      "3  janice        20       67     90       45\n",
      "4   peter        30       56     45       65\n",
      "5    prem        90       45     45       34\n",
      "6  carrol        50       90     45       23\n"
     ]
    }
   ],
   "source": [
    "print('Task 16:') \n",
    "df = pandas.read_csv('abc.csv', sep=',')\n",
    "print(df)\n",
    "df1 = df[df.maths>40]\n",
    "print(df1)"
   ]
  },
  {
   "cell_type": "code",
   "execution_count": 80,
   "id": "8f393a1e-154e-44e1-b6ce-5226cb4a62a6",
   "metadata": {},
   "outputs": [
    {
     "name": "stdout",
     "output_type": "stream",
     "text": [
      "Task 17:\n",
      "  student  language  science  maths  history\n",
      "0   kumar        90       56     34       34\n",
      "1   kevin        10       34     32       67\n",
      "2   sammy        90       23     12       32\n",
      "3  janice        20       67     90       45\n",
      "4   peter        30       56     45       65\n",
      "5    prem        90       45     45       34\n",
      "6  carrol        50       90     45       23\n",
      "  student  language  science  maths  history\n",
      "0   kumar        90       56     34       34\n",
      "2   sammy        90       23     12       32\n",
      "5    prem        90       45     45       34\n",
      "6  carrol        50       90     45       23\n"
     ]
    }
   ],
   "source": [
    "print('Task 17:') \n",
    "df = pandas.read_csv('abc.csv', sep=',')\n",
    "print(df)\n",
    "df1 = df.query('language>=50')\n",
    "print(df1)"
   ]
  },
  {
   "cell_type": "code",
   "execution_count": 81,
   "id": "9e662460-44bc-4ea1-a38b-ef70019a99a0",
   "metadata": {},
   "outputs": [
    {
     "name": "stdout",
     "output_type": "stream",
     "text": [
      "Task 17:\n",
      "  student  language  science  maths  history\n",
      "0   kumar        90       56     34       34\n",
      "1   kevin        10       34     32       67\n",
      "2   sammy        90       23     12       32\n",
      "3  janice        20       67     90       45\n",
      "4    prem        90       45     45       34\n",
      "5  carrol        50       90     45       23\n"
     ]
    }
   ],
   "source": [
    "print('Task 18:') \n",
    "df = pandas.read_csv('abc.csv', sep=',',skiprows = [5])\n",
    "print(df)\n"
   ]
  },
  {
   "cell_type": "code",
   "execution_count": 82,
   "id": "a923883b-22c5-4747-9bd4-1ce1a94edb1b",
   "metadata": {},
   "outputs": [
    {
     "name": "stdout",
     "output_type": "stream",
     "text": [
      "Task 17:\n",
      "  student  language  science  maths  history\n",
      "0   sammy        90       23     12       32\n",
      "1  janice        20       67     90       45\n",
      "2    prem        90       45     45       34\n",
      "3  carrol        50       90     45       23\n"
     ]
    }
   ],
   "source": [
    "print('Task 19:') \n",
    "df = pandas.read_csv('abc.csv', sep=',',skiprows = [1,2,5])\n",
    "print(df)\n"
   ]
  },
  {
   "cell_type": "code",
   "execution_count": 83,
   "id": "9e339360-e6ae-47be-b081-c7e1ae80587d",
   "metadata": {},
   "outputs": [
    {
     "name": "stdout",
     "output_type": "stream",
     "text": [
      "Task 17:\n",
      "maths\n"
     ]
    }
   ],
   "source": [
    "print('Task 20:') \n",
    "df = pandas.read_csv('abc.csv', sep=',',skiprows = [5])\n",
    "print(df.columns[3])\n"
   ]
  },
  {
   "cell_type": "code",
   "execution_count": 84,
   "id": "c33d5698-6774-42ec-8190-8d8281dd097f",
   "metadata": {},
   "outputs": [
    {
     "name": "stdout",
     "output_type": "stream",
     "text": [
      "Task 18:\n",
      "    kumar  90  56  34  34.1\n",
      "0   kevin  10  34  32    67\n",
      "1   sammy  90  23  12    32\n",
      "2  janice  20  67  90    45\n",
      "3   peter  30  56  45    65\n",
      "4    prem  90  45  45    34\n",
      "5  carrol  50  90  45    23\n"
     ]
    }
   ],
   "source": [
    "print('Task 21:') \n",
    "df = pandas.read_csv('abc.csv', sep=',',skiprows = [0])\n",
    "print(df)"
   ]
  },
  {
   "cell_type": "code",
   "execution_count": 91,
   "id": "d0494751-b77e-4350-bc22-c52d0e7a0143",
   "metadata": {},
   "outputs": [
    {
     "name": "stdout",
     "output_type": "stream",
     "text": [
      "Task 22:\n",
      "(3, 3)\n",
      "           X   Y   Z\n",
      "0         10  21  23\n",
      "1         32  44  34\n",
      "2         52  63  56\n"
     ]
    }
   ],
   "source": [
    "print('Task 22:')\n",
    "from io import StringIO\n",
    "\n",
    "s = \"\"\"\n",
    "        X,Y,Z\n",
    "        10, 21,23\n",
    "        32, 44,34\n",
    "        52, 63,56\n",
    "    \"\"\"\n",
    "\n",
    "df = pd.read_csv(StringIO(s))\n",
    "\n",
    "print(df.shape)\n",
    "print(df)"
   ]
  },
  {
   "cell_type": "code",
   "execution_count": 100,
   "id": "ba052bfc-3725-4e6b-8da5-84fc14a14129",
   "metadata": {},
   "outputs": [
    {
     "name": "stdout",
     "output_type": "stream",
     "text": [
      "Task 23:\n",
      "  student  language  science  maths  history\n",
      "0   kumar        90       56     34       34\n",
      "1   kevin        10       34     32       67\n",
      "2   sammy        90       23     12       32\n",
      "3  janice        20       67     90       45\n",
      "4   peter        30       56     45       65\n",
      "5    prem        90       45     45       34\n",
      "6  carrol        50       90     45       23\n",
      "  student  language  science  maths  history  max\n",
      "0   kumar        90       56     34       34   90\n",
      "1   kevin        10       34     32       67   67\n",
      "2   sammy        90       23     12       32   90\n",
      "3  janice        20       67     90       45   90\n",
      "4   peter        30       56     45       65   65\n",
      "5    prem        90       45     45       34   90\n",
      "6  carrol        50       90     45       23   90\n",
      "  student  language  science  maths  history  max  min\n",
      "0   kumar        90       56     34       34   90   34\n",
      "1   kevin        10       34     32       67   67   10\n",
      "2   sammy        90       23     12       32   90   12\n",
      "3  janice        20       67     90       45   90   20\n",
      "4   peter        30       56     45       65   65   30\n",
      "5    prem        90       45     45       34   90   34\n",
      "6  carrol        50       90     45       23   90   23\n",
      "  student  language  science  maths  history  max  min  sum\n",
      "0   kumar        90       56     34       34   90   34  214\n",
      "1   kevin        10       34     32       67   67   10  143\n",
      "2   sammy        90       23     12       32   90   12  157\n",
      "3  janice        20       67     90       45   90   20  222\n",
      "4   peter        30       56     45       65   65   30  196\n",
      "5    prem        90       45     45       34   90   34  214\n",
      "6  carrol        50       90     45       23   90   23  208\n",
      "  student  language  science  maths  history  max  min  sum  average\n",
      "0   kumar        90       56     34       34   90   34  214       53\n",
      "1   kevin        10       34     32       67   67   10  143       35\n",
      "2   sammy        90       23     12       32   90   12  157       39\n",
      "3  janice        20       67     90       45   90   20  222       55\n",
      "4   peter        30       56     45       65   65   30  196       49\n",
      "5    prem        90       45     45       34   90   34  214       53\n",
      "6  carrol        50       90     45       23   90   23  208       52\n"
     ]
    }
   ],
   "source": [
    "print('Task 23:') \n",
    "df = pandas.read_csv('abc.csv', sep=',')\n",
    "print(df)\n",
    "df1 = df.drop(['student'],axis=1)\n",
    "df['max']= df1.max(axis=1)\n",
    "print(df)\n",
    "df['min']= df1.min(axis=1)\n",
    "print(df)\n",
    "df['sum'] = df1.sum(axis=1)\n",
    "print(df)\n",
    "df['average'] = df1.mean(axis=1).astype(int)\n",
    "print(df)"
   ]
  },
  {
   "cell_type": "code",
   "execution_count": 103,
   "id": "80abcd29-c221-4705-8ea4-09902d289bce",
   "metadata": {},
   "outputs": [
    {
     "name": "stdout",
     "output_type": "stream",
     "text": [
      "Task 23:\n",
      "  student  language  science  maths  history\n",
      "0   kumar        90       56     34       34\n",
      "1   kevin        10       34     32       67\n",
      "2   sammy        90       23     12       32\n",
      "3  janice        20       67     90       45\n",
      "4   peter        30       56     45       65\n",
      "5    prem        90       45     45       34\n",
      "6  carrol        50       90     45       23\n",
      "  student  language  science  maths  history  max  min  sum  average  \\\n",
      "0   kumar        90       56     34       34   90   34  214       53   \n",
      "1   kevin        10       34     32       67   67   10  143       35   \n",
      "2   sammy        90       23     12       32   90   12  157       39   \n",
      "3  janice        20       67     90       45   90   20  222       55   \n",
      "4   peter        30       56     45       65   65   30  196       49   \n",
      "5    prem        90       45     45       34   90   34  214       53   \n",
      "6  carrol        50       90     45       23   90   23  208       52   \n",
      "\n",
      "   math_special  \n",
      "0            68  \n",
      "1            64  \n",
      "2            24  \n",
      "3           180  \n",
      "4            90  \n",
      "5            90  \n",
      "6            90  \n"
     ]
    }
   ],
   "source": [
    "print('Task 24:') \n",
    "df = pandas.read_csv('abc.csv', sep=',')\n",
    "print(df)\n",
    "df1 = df.drop(['student'],axis=1)\n",
    "df['max']= df1.max(axis=1)\n",
    "\n",
    "df['min']= df1.min(axis=1)\n",
    "\n",
    "df['sum'] = df1.sum(axis=1)\n",
    "df['average'] = df1.mean(axis=1).astype(int)\n",
    "def math1(row):\n",
    "    return (row.maths*2)\n",
    "df['math_special'] = df1.apply(math1,axis=1).astype(int)\n",
    "print(df)"
   ]
  },
  {
   "cell_type": "code",
   "execution_count": 118,
   "id": "d66e2925-918d-4ad5-aacd-44e82c25f10a",
   "metadata": {},
   "outputs": [
    {
     "name": "stdout",
     "output_type": "stream",
     "text": [
      "Task 25:\n",
      "  student  language  science  maths  history\n",
      "0   kumar        90       56     34       34\n",
      "1   kevin        10       34     32       67\n",
      "2   sammy        90       23     12       32\n",
      "3  janice        20       67     90       45\n",
      "4   peter        30       56     45       65\n",
      "5    prem        90       45     45       34\n",
      "6  carrol        50       90     45       23\n",
      "  student  language  science  maths  history  max  min  sum  average  pass\n",
      "0   kumar        90       56     34       34   90   34  214       53  Pass\n",
      "1   kevin        10       34     32       67   67   10  143       35  Fail\n",
      "2   sammy        90       23     12       32   90   12  157       39  Fail\n",
      "3  janice        20       67     90       45   90   20  222       55  Pass\n",
      "4   peter        30       56     45       65   65   30  196       49  Pass\n",
      "5    prem        90       45     45       34   90   34  214       53  Pass\n",
      "6  carrol        50       90     45       23   90   23  208       52  Pass\n"
     ]
    }
   ],
   "source": [
    "print('Task 25:') \n",
    "def pass_one_subject(row):\n",
    "    if(row.maths >=45):\n",
    "        return 'Pass'\n",
    "    if(row.language > 40 and row.science > 44):\n",
    "        return 'Pass'\n",
    "    \n",
    "    return 'Fail' \n",
    "\n",
    "df = pandas.read_csv('abc.csv', sep=',')\n",
    "print(df)\n",
    "df1 = df.drop(['student'],axis=1)\n",
    "df['max']= df1.max(axis=1)\n",
    "\n",
    "df['min']= df1.min(axis=1)\n",
    "\n",
    "df['sum'] = df1.sum(axis=1)\n",
    "df['average'] = df1.mean(axis=1).astype(int)\n",
    "def math1(row):\n",
    "    return (row.maths*2)\n",
    "#function will return string \n",
    "df['pass'] = df1.apply(pass_one_subject,axis=1)\n",
    "print(df)\n"
   ]
  },
  {
   "cell_type": "code",
   "execution_count": 110,
   "id": "e8ec6098-27a9-456b-a445-afb80eab9245",
   "metadata": {},
   "outputs": [
    {
     "name": "stdout",
     "output_type": "stream",
     "text": [
      "Task 26:\n",
      "  student  language  science  maths  history\n",
      "0   kumar        90     56.0   34.0       34\n",
      "1   kevin        10      NaN   32.0       67\n",
      "2   sammy        90     23.0   12.0       32\n",
      "3  janice        20      NaN   90.0       45\n",
      "4   peter        30     56.0   45.0       65\n",
      "5    prem        90     45.0    NaN       34\n",
      "6  carrol        50     90.0   45.0       23\n",
      "  student  language  science  maths  history\n",
      "0   kumar        90     56.0   34.0       34\n",
      "1   kevin        10     54.0   32.0       67\n",
      "2   sammy        90     23.0   12.0       32\n",
      "3  janice        20     54.0   90.0       45\n",
      "4   peter        30     56.0   45.0       65\n",
      "5    prem        90     45.0   43.0       34\n",
      "6  carrol        50     90.0   45.0       23\n"
     ]
    }
   ],
   "source": [
    "print('Task 26:') \n",
    "df = pandas.read_csv('abc2.csv', sep=',')\n",
    "print(df)\n",
    "df1 = df.drop(['student'],axis =1)\n",
    "df.fillna(df1.mean(),inplace =True)\n",
    "print(df)\n"
   ]
  },
  {
   "cell_type": "code",
   "execution_count": 116,
   "id": "ca97d9d7-3a14-43e0-b818-d58c488662e9",
   "metadata": {},
   "outputs": [
    {
     "name": "stdout",
     "output_type": "stream",
     "text": [
      "Task 27:\n",
      "      0     1   2   3   4\n",
      "0   NaN   NaN  35  26  29\n",
      "1  23.0  21.0  36  35  39\n",
      "2   NaN   NaN  32  38  27\n",
      "3  27.0  26.0  25  21  33\n",
      "4   NaN   NaN  20  21  22\n",
      "5  25.0  24.0  38  26  20\n",
      "6   NaN   NaN  37  26  30\n",
      "7  38.0  29.0  35  20  29\n",
      "8   NaN   NaN  27  30  31\n",
      "9  28.0  24.0  30  31  33\n",
      "      0     1   2   3   4  test\n",
      "0   NaN   NaN  35  26  29    90\n",
      "1  23.0  21.0  36  35  39   110\n",
      "2   NaN   NaN  32  38  27    97\n",
      "3  27.0  26.0  25  21  33    79\n",
      "4   NaN   NaN  20  21  22    63\n",
      "5  25.0  24.0  38  26  20    84\n",
      "6   NaN   NaN  37  26  30    93\n",
      "7  38.0  29.0  35  20  29    84\n",
      "8   NaN   NaN  27  30  31    88\n",
      "9  28.0  24.0  30  31  33    94\n"
     ]
    }
   ],
   "source": [
    "print('Task 27:')\n",
    "df = pd.DataFrame(np.random.randint(20 ,40, size=(10,5)))\n",
    "df.iloc[0::2, 0:2] = np.nan \n",
    "print(df)\n",
    "df.loc[:, 'test'] = df.iloc[:, 2:].sum(axis=1)\n",
    "print(df)"
   ]
  },
  {
   "cell_type": "code",
   "execution_count": 117,
   "id": "b51cbd21-b866-41ea-80a4-083d247b229c",
   "metadata": {},
   "outputs": [
    {
     "name": "stdout",
     "output_type": "stream",
     "text": [
      "Task 28:\n",
      "(16, 5)\n"
     ]
    }
   ],
   "source": [
    "print('Task 28:') \n",
    "df = pandas.read_csv('score.csv', sep=',', encoding = \"ISO-8859-1\")\n",
    "print(df.shape) "
   ]
  },
  {
   "cell_type": "code",
   "execution_count": 134,
   "id": "2aa1b8ea-367e-4a21-94ac-c8654ac2b05a",
   "metadata": {},
   "outputs": [
    {
     "name": "stdout",
     "output_type": "stream",
     "text": [
      "Task 29:\n",
      "    A   B   C   D   E\n",
      "0  24  26  30  22  22\n",
      "1  22  22  27  23  29\n",
      "2  35  34  39  22  25\n",
      "3  33  25  37  20  21\n",
      "4  24  22  26  36  28\n",
      "5  21  26  27  39  39\n",
      "6  36  20  30  38  29\n",
      "7  29  26  34  32  30\n",
      "8  39  39  22  23  34\n",
      "9  34  28  39  31  20\n",
      "      A     B   C   D   E\n",
      "0   NaN   NaN  30  22  22\n",
      "1  22.0  22.0  27  23  29\n",
      "2   NaN   NaN  39  22  25\n",
      "3  33.0  25.0  37  20  21\n",
      "4   NaN   NaN  26  36  28\n",
      "5  21.0  26.0  27  39  39\n",
      "6   NaN   NaN  30  38  29\n",
      "7  29.0  26.0  34  32  30\n",
      "8   NaN   NaN  22  23  34\n",
      "9  34.0  28.0  39  31  20\n",
      "      A     B   C   D   E\n",
      "0  27.8  25.4  30  22  22\n",
      "1  22.0  22.0  27  23  29\n",
      "2  27.8  25.4  39  22  25\n",
      "3  33.0  25.0  37  20  21\n",
      "4  27.8  25.4  26  36  28\n",
      "5  21.0  26.0  27  39  39\n",
      "6  27.8  25.4  30  38  29\n",
      "7  29.0  26.0  34  32  30\n",
      "8  27.8  25.4  22  23  34\n",
      "9  34.0  28.0  39  31  20\n",
      "      A     B   C   D   E\n",
      "0   NaN   NaN  30  22  22\n",
      "1  22.0  22.0  27  23  29\n",
      "2   NaN   NaN  39  22  25\n",
      "3  33.0  25.0  37  20  21\n",
      "4   NaN   NaN  26  36  28\n",
      "5  21.0  26.0  27  39  39\n",
      "6   NaN   NaN  30  38  29\n",
      "7  29.0  26.0  34  32  30\n",
      "8   NaN   NaN  22  23  34\n",
      "9  34.0  28.0  39  31  20\n"
     ]
    }
   ],
   "source": [
    "print('Task 29:')\n",
    "df = pd.DataFrame(np.random.randint(20 ,40, size=(10,5)),columns=list('ABCDE'))\n",
    "print(df)\n",
    "df.iloc[0::2, 0:2] = np.nan \n",
    "print(df)\n",
    "#inplace == True it changes the original dataframe\n",
    "df1=df.fillna(df.mean() ,inplace =False)\n",
    "print(df1)\n",
    "print(df)\n"
   ]
  },
  {
   "cell_type": "code",
   "execution_count": 141,
   "id": "b8939810-a187-4064-8f75-c9370f34fa13",
   "metadata": {},
   "outputs": [
    {
     "name": "stdout",
     "output_type": "stream",
     "text": [
      "Task 30:\n",
      "    0  1    2    3     4     5      6     7     8   9    10 11     12\n",
      "514  2  4  aug  sun  81.6  56.7  665.6   1.9  21.9  71  5.8  0  54.29\n",
      "515  7  4  aug  sun  81.6  56.7  665.6   1.9  21.2  70  6.7  0  11.16\n",
      "516  1  4  aug  sat  94.4   146  614.7  11.3  25.6  42    4  0      0\n",
      "517  6  3  nov  tue  79.5     3  106.7   1.1  11.8  31  4.5  0      0\n"
     ]
    }
   ],
   "source": [
    "print('Task 30:')\n",
    "df = pandas.read_csv('forestfires.csv', sep=',', header=None)\n",
    "print(df[-4:])"
   ]
  },
  {
   "cell_type": "code",
   "execution_count": 139,
   "id": "871d5d61-2dbf-40c3-ab24-24e15a09ec88",
   "metadata": {},
   "outputs": [
    {
     "name": "stdout",
     "output_type": "stream",
     "text": [
      "Task 31:\n",
      "0    0.01\n",
      "1    0.02\n",
      "2    0.03\n",
      "3    0.04\n",
      "4    0.05\n",
      "dtype: float64\n",
      "0    2.01\n",
      "1    3.03\n",
      "2    4.06\n",
      "3    5.10\n",
      "4    6.15\n",
      "dtype: float64\n"
     ]
    }
   ],
   "source": [
    "print('Task 31:')\n",
    "import functools\n",
    "series1 = pd.Series([i / 100.0 for i in range(1,6)])\n",
    "print(series1)\n",
    "def CumRet(x,y):\n",
    "    return x +(1 + y)\n",
    "def Red(x):\n",
    "    return functools.reduce(CumRet,x,1.0)\n",
    "s2 = series1.expanding().apply(Red)\n",
    "\n",
    "print(s2)"
   ]
  },
  {
   "cell_type": "code",
   "execution_count": 145,
   "id": "9e86748f-62ee-4481-9399-3d316181feb9",
   "metadata": {},
   "outputs": [
    {
     "name": "stdout",
     "output_type": "stream",
     "text": [
      "Task 30:\n",
      "     X  Y month  day  FFMC    DMC     DC   ISI  temp  RH  wind  rain   area\n",
      "513  2  4   aug  sun  81.6   56.7  665.6   1.9  21.9  71   5.8   0.0  54.29\n",
      "514  7  4   aug  sun  81.6   56.7  665.6   1.9  21.2  70   6.7   0.0  11.16\n",
      "515  1  4   aug  sat  94.4  146.0  614.7  11.3  25.6  42   4.0   0.0   0.00\n"
     ]
    }
   ],
   "source": [
    "print('Task 32:')\n",
    "df = pandas.read_csv('forestfires.csv', sep=',')\n",
    "print(df[-4:-1])"
   ]
  },
  {
   "cell_type": "code",
   "execution_count": 143,
   "id": "f5cfc241-478e-43f8-94ac-5be3325495b2",
   "metadata": {},
   "outputs": [
    {
     "name": "stdout",
     "output_type": "stream",
     "text": [
      "Task 30:\n",
      "   X  Y month  day  FFMC   DMC     DC  ISI  temp  RH  wind  rain  area\n",
      "2  7  4   oct  sat  90.6  43.7  686.9  6.7  14.6  33   1.3   0.0   0.0\n",
      "3  8  6   mar  fri  91.7  33.3   77.5  9.0   8.3  97   4.0   0.2   0.0\n"
     ]
    }
   ],
   "source": [
    "print('Task 33:')\n",
    "df = pandas.read_csv('forestfires.csv', sep=',')\n",
    "print(df[2:4])"
   ]
  },
  {
   "cell_type": "code",
   "execution_count": 146,
   "id": "8dca51b0-c5d1-4b9e-b04f-b35c081acf79",
   "metadata": {},
   "outputs": [
    {
     "name": "stdout",
     "output_type": "stream",
     "text": [
      "Task 34:\n",
      "  0  1    2    3     4      5      6     7     8   9    10   11 12\n",
      "1  7  5  mar  fri  86.2   26.2   94.3   5.1   8.2  51  6.7    0  0\n",
      "2  7  4  oct  tue  90.6   35.4  669.1   6.7    18  33  0.9    0  0\n",
      "3  7  4  oct  sat  90.6   43.7  686.9   6.7  14.6  33  1.3    0  0\n",
      "4  8  6  mar  fri  91.7   33.3   77.5     9   8.3  97    4  0.2  0\n",
      "5  8  6  mar  sun  89.3   51.3  102.2   9.6  11.4  99  1.8    0  0\n",
      "6  8  6  aug  sun  92.3   85.3    488  14.7  22.2  29  5.4    0  0\n",
      "7  8  6  aug  mon  92.3   88.9  495.6   8.5  24.1  27  3.1    0  0\n",
      "8  8  6  aug  mon  91.5  145.4  608.2  10.7     8  86  2.2    0  0\n"
     ]
    }
   ],
   "source": [
    "print('Task 34:')\n",
    "df = pandas.read_csv('forestfires.csv', sep=',', header=None)\n",
    "print(df.iloc[1:9])"
   ]
  },
  {
   "cell_type": "code",
   "execution_count": 158,
   "id": "0d72b44a-8703-489b-ac47-ccdcfaa12cce",
   "metadata": {},
   "outputs": [
    {
     "name": "stdout",
     "output_type": "stream",
     "text": [
      "Task 36:\n",
      "1000\n",
      "          date  random_1  random_2  random_3\n",
      "0   2012-04-10       163        66        40\n",
      "1   2012-04-11       151       185        85\n",
      "2   2012-04-12       154       180        32\n",
      "3   2012-04-13       134        81        32\n",
      "4   2012-04-14       160       130       142\n",
      "..         ...       ...       ...       ...\n",
      "995 2014-12-31       105       120        34\n",
      "996 2015-01-01        17       146       198\n",
      "997 2015-01-02       120        64        67\n",
      "998 2015-01-03       126        60        45\n",
      "999 2015-01-04       195        56        28\n",
      "\n",
      "[1000 rows x 4 columns]\n"
     ]
    }
   ],
   "source": [
    "print('Task 36:')  \n",
    "def xrange(x):\n",
    "    return iter(range(x))\n",
    "import random as rn\n",
    "rnd_1  =  [ rn.randrange ( 1 , 200 )  for  _  in  range ( 1000 )] \n",
    "rnd_2  =  [ rn.randrange ( 1 , 200 )  for  _  in  range ( 1000 )] \n",
    "rnd_3  =  [ rn.randrange ( 1 , 200)  for  _ in  range ( 1000 )] \n",
    "date  =  pd . date_range ( '2012-4-10' ,  '2015-1-4' )\n",
    "print(len(date))\n",
    "data  =  pd . DataFrame ({ 'date' : date ,  'random_1' :  rnd_1 ,  'random_2' :  rnd_2 ,  'random_3' :  rnd_3 })\n",
    "\n",
    "print(data)"
   ]
  },
  {
   "cell_type": "code",
   "execution_count": 159,
   "id": "2fc8499d-2ba5-4cda-ac51-e22f18d5e325",
   "metadata": {},
   "outputs": [
    {
     "name": "stdout",
     "output_type": "stream",
     "text": [
      "Task 37:\n",
      "          date  rnd_1  rnd_2  rnd_3\n",
      "29  2012-05-09     17     50    143\n",
      "52  2012-06-01     18     63    196\n",
      "56  2012-06-05     18     29     69\n",
      "64  2012-06-13      8    184    138\n",
      "65  2012-06-14     16    142     16\n",
      "..         ...    ...    ...    ...\n",
      "966 2014-12-02     10    154    129\n",
      "975 2014-12-11     12     67    177\n",
      "979 2014-12-15     13     38     12\n",
      "989 2014-12-25      7     65    110\n",
      "999 2015-01-04      6    156     99\n",
      "\n",
      "[93 rows x 4 columns]\n"
     ]
    }
   ],
   "source": [
    "print('Task 37:')\n",
    "below_15 = data[data['random_1'] < 20]    \n",
    "print(below_50)"
   ]
  },
  {
   "cell_type": "code",
   "execution_count": 162,
   "id": "0cde6726-0700-4eb9-b846-bbfa1d493bbb",
   "metadata": {},
   "outputs": [
    {
     "name": "stdout",
     "output_type": "stream",
     "text": [
      "          date  random_1  random_2  random_3\n",
      "55  2012-06-04         6       158       138\n",
      "84  2012-07-03         5       122         2\n",
      "101 2012-07-20         6       177       112\n",
      "106 2012-07-25         5       124        48\n",
      "112 2012-07-31         5       197        21\n",
      "248 2012-12-14         6         8       150\n",
      "267 2013-01-02         6       165        16\n",
      "384 2013-04-29         5       134         9\n",
      "385 2013-04-30         6        82       170\n",
      "403 2013-05-18         8       136        88\n",
      "408 2013-05-23         5        12       180\n",
      "458 2013-07-12         6       138        30\n",
      "475 2013-07-29         7       163        35\n",
      "495 2013-08-18         5       143       116\n",
      "513 2013-09-05         6       112       148\n",
      "528 2013-09-20         8        86       124\n",
      "538 2013-09-30         9       128        55\n",
      "558 2013-10-20         7        48        86\n",
      "583 2013-11-14         7        34         5\n",
      "592 2013-11-23         8        37         7\n",
      "599 2013-11-30         7        91       118\n",
      "621 2013-12-22         5       143        91\n",
      "672 2014-02-11         7       179        79\n",
      "675 2014-02-14         8       148       184\n",
      "679 2014-02-18         6       119        10\n",
      "687 2014-02-26         7        31       126\n",
      "741 2014-04-21         6         4       122\n",
      "807 2014-06-26         9       113        37\n",
      "811 2014-06-30         8       112       135\n",
      "814 2014-07-03         6       139       149\n",
      "824 2014-07-13         8       147        53\n",
      "830 2014-07-19         7       138        88\n",
      "840 2014-07-29         5        73        97\n",
      "842 2014-07-31         9        61        84\n",
      "876 2014-09-03         8        39        56\n",
      "886 2014-09-13         8       194       111\n",
      "918 2014-10-15         7        96       154\n",
      "939 2014-11-05         5        99        12\n",
      "968 2014-12-04         9        39       124\n",
      "983 2014-12-19         5       121       175\n",
      "991 2014-12-27         5       172         6\n"
     ]
    }
   ],
   "source": [
    "five_to_ten = data[(data['random_1']>=5 )& (data['random_1']<10)]\n",
    "print(five_to_ten) "
   ]
  },
  {
   "cell_type": "code",
   "execution_count": 163,
   "id": "78ddb60f-9df9-42bd-a75c-58cdd64c446a",
   "metadata": {},
   "outputs": [
    {
     "name": "stdout",
     "output_type": "stream",
     "text": [
      "Task 39:\n",
      "          date  random_1  random_2  random_3\n",
      "58  2012-06-07        15        84       199\n",
      "75  2012-06-24        19        16        22\n",
      "151 2012-09-08        15        22        72\n",
      "206 2012-11-02        18       187       163\n",
      "207 2012-11-03        16       148        97\n",
      "261 2012-12-27        15       110        60\n",
      "296 2013-01-31        18       121        35\n",
      "399 2013-05-14        15       128       187\n",
      "432 2013-06-16        19       100       136\n",
      "574 2013-11-05        17       143        42\n",
      "629 2013-12-30        15        42        68\n",
      "644 2014-01-14        17       197       156\n",
      "760 2014-05-10        18       146       118\n",
      "867 2014-08-25        19       166       100\n",
      "920 2014-10-17        16        79        60\n",
      "931 2014-10-28        17       146       132\n",
      "996 2015-01-01        17       146       198\n"
     ]
    }
   ],
   "source": [
    "print('Task 39:')  \n",
    "fifteen_to_20 = data[(data['random_1']>=15 )& (data['random_1']<20)]\n",
    "print(fifteen_to_20)"
   ]
  },
  {
   "cell_type": "code",
   "execution_count": 164,
   "id": "a3bc32e5-c8db-4315-a880-e116bc57b7b1",
   "metadata": {},
   "outputs": [
    {
     "name": "stdout",
     "output_type": "stream",
     "text": [
      "Task 40:\n",
      "          date  random_1  random_2  random_3\n",
      "16  2012-04-26        24        11        92\n",
      "33  2012-05-13        30        21       105\n",
      "46  2012-05-26        27       119       158\n",
      "58  2012-06-07        15        84       199\n",
      "75  2012-06-24        19        16        22\n",
      "..         ...       ...       ...       ...\n",
      "948 2014-11-14        27        70        27\n",
      "964 2014-11-30        24       155       139\n",
      "970 2014-12-06        32        23       142\n",
      "977 2014-12-13        29       108       134\n",
      "996 2015-01-01        17       146       198\n",
      "\n",
      "[77 rows x 4 columns]\n"
     ]
    }
   ],
   "source": [
    "print('Task 40:')  \n",
    "fifteen_to_20 = data[(data['random_1']>=15 )& (data['random_1']<33)]\n",
    "print(fifteen_to_20)"
   ]
  }
 ],
 "metadata": {
  "kernelspec": {
   "display_name": "Python 3 (ipykernel)",
   "language": "python",
   "name": "python3"
  },
  "language_info": {
   "codemirror_mode": {
    "name": "ipython",
    "version": 3
   },
   "file_extension": ".py",
   "mimetype": "text/x-python",
   "name": "python",
   "nbconvert_exporter": "python",
   "pygments_lexer": "ipython3",
   "version": "3.8.15"
  }
 },
 "nbformat": 4,
 "nbformat_minor": 5
}
